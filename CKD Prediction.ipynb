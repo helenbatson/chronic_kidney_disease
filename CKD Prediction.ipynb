{
 "cells": [
  {
   "cell_type": "markdown",
   "metadata": {},
   "source": [
    "# Predicting Chronic Kidney Disease\n",
    "\n",
    "### Overview\n",
    "The data used in this investigation of chronic kidney disease is taken from a Kaggle dataset which was added by the Co-learning Lounge - https://www.kaggle.com/colearninglounge/chronic-kidney-disease, with acknowledgments to https://archive.ics.uci.edu/ml/datasets/Chronic_Kidney_Disease for the original data source.\n",
    "\n",
    "The data has been taken over a two-month period in India, and includes 25 variables, mostly related to the patient's blood.\n",
    "\n",
    "The target of this investigation is to determine whether or not the patient has chronic kidney disease.\n",
    "\n",
    "A few models will be tried, starting with logistic regression since it is used to explain the relationship between one dependent binary variable (disease present or not) and one or more nominal, ordinal, interval or ratio-level independent variables.\n",
    "\n",
    "(strategy for solving the problem, including discussion of the expected solution)"
   ]
  },
  {
   "cell_type": "markdown",
   "metadata": {},
   "source": [
    "### Load the appropriate libraries"
   ]
  },
  {
   "cell_type": "code",
   "execution_count": 1,
   "metadata": {},
   "outputs": [],
   "source": [
    "import numpy as np\n",
    "import pandas as pd\n",
    "import matplotlib.pyplot as plt\n",
    "%matplotlib inline\n",
    "\n",
    "import seaborn as sns\n",
    "from sklearn.linear_model import LogisticRegression\n",
    "from sklearn.model_selection import train_test_split\n",
    "from sklearn.ensemble import RandomForestClassifier\n",
    "from sklearn.metrics import confusion_matrix\n"
   ]
  },
  {
   "cell_type": "markdown",
   "metadata": {},
   "source": [
    "### Load the kidney disease data"
   ]
  },
  {
   "cell_type": "code",
   "execution_count": 2,
   "metadata": {},
   "outputs": [],
   "source": [
    "df = pd.read_csv(\"kidney_disease_train.csv\")\n",
    "df_test = pd.read_csv(\"kidney_disease_test.csv\")\n"
   ]
  },
  {
   "cell_type": "code",
   "execution_count": 3,
   "metadata": {},
   "outputs": [
    {
     "data": {
      "text/html": [
       "<div>\n",
       "<style scoped>\n",
       "    .dataframe tbody tr th:only-of-type {\n",
       "        vertical-align: middle;\n",
       "    }\n",
       "\n",
       "    .dataframe tbody tr th {\n",
       "        vertical-align: top;\n",
       "    }\n",
       "\n",
       "    .dataframe thead th {\n",
       "        text-align: right;\n",
       "    }\n",
       "</style>\n",
       "<table border=\"1\" class=\"dataframe\">\n",
       "  <thead>\n",
       "    <tr style=\"text-align: right;\">\n",
       "      <th></th>\n",
       "      <th>id</th>\n",
       "      <th>age</th>\n",
       "      <th>bp</th>\n",
       "      <th>sg</th>\n",
       "      <th>al</th>\n",
       "      <th>su</th>\n",
       "      <th>rbc</th>\n",
       "      <th>pc</th>\n",
       "      <th>pcc</th>\n",
       "      <th>ba</th>\n",
       "      <th>...</th>\n",
       "      <th>pcv</th>\n",
       "      <th>wc</th>\n",
       "      <th>rc</th>\n",
       "      <th>htn</th>\n",
       "      <th>dm</th>\n",
       "      <th>cad</th>\n",
       "      <th>appet</th>\n",
       "      <th>pe</th>\n",
       "      <th>ane</th>\n",
       "      <th>classification</th>\n",
       "    </tr>\n",
       "  </thead>\n",
       "  <tbody>\n",
       "    <tr>\n",
       "      <th>0</th>\n",
       "      <td>157</td>\n",
       "      <td>62.0</td>\n",
       "      <td>70.0</td>\n",
       "      <td>1.025</td>\n",
       "      <td>3.0</td>\n",
       "      <td>0.0</td>\n",
       "      <td>normal</td>\n",
       "      <td>abnormal</td>\n",
       "      <td>notpresent</td>\n",
       "      <td>notpresent</td>\n",
       "      <td>...</td>\n",
       "      <td>39.0</td>\n",
       "      <td>7900</td>\n",
       "      <td>3.9</td>\n",
       "      <td>yes</td>\n",
       "      <td>yes</td>\n",
       "      <td>no</td>\n",
       "      <td>good</td>\n",
       "      <td>no</td>\n",
       "      <td>no</td>\n",
       "      <td>ckd</td>\n",
       "    </tr>\n",
       "    <tr>\n",
       "      <th>1</th>\n",
       "      <td>109</td>\n",
       "      <td>54.0</td>\n",
       "      <td>70.0</td>\n",
       "      <td>NaN</td>\n",
       "      <td>NaN</td>\n",
       "      <td>NaN</td>\n",
       "      <td>NaN</td>\n",
       "      <td>NaN</td>\n",
       "      <td>notpresent</td>\n",
       "      <td>notpresent</td>\n",
       "      <td>...</td>\n",
       "      <td>NaN</td>\n",
       "      <td>NaN</td>\n",
       "      <td>NaN</td>\n",
       "      <td>no</td>\n",
       "      <td>yes</td>\n",
       "      <td>no</td>\n",
       "      <td>good</td>\n",
       "      <td>no</td>\n",
       "      <td>no</td>\n",
       "      <td>ckd</td>\n",
       "    </tr>\n",
       "    <tr>\n",
       "      <th>2</th>\n",
       "      <td>17</td>\n",
       "      <td>47.0</td>\n",
       "      <td>80.0</td>\n",
       "      <td>NaN</td>\n",
       "      <td>NaN</td>\n",
       "      <td>NaN</td>\n",
       "      <td>NaN</td>\n",
       "      <td>NaN</td>\n",
       "      <td>notpresent</td>\n",
       "      <td>notpresent</td>\n",
       "      <td>...</td>\n",
       "      <td>NaN</td>\n",
       "      <td>NaN</td>\n",
       "      <td>NaN</td>\n",
       "      <td>yes</td>\n",
       "      <td>no</td>\n",
       "      <td>no</td>\n",
       "      <td>poor</td>\n",
       "      <td>no</td>\n",
       "      <td>no</td>\n",
       "      <td>ckd</td>\n",
       "    </tr>\n",
       "    <tr>\n",
       "      <th>3</th>\n",
       "      <td>347</td>\n",
       "      <td>43.0</td>\n",
       "      <td>60.0</td>\n",
       "      <td>1.025</td>\n",
       "      <td>0.0</td>\n",
       "      <td>0.0</td>\n",
       "      <td>normal</td>\n",
       "      <td>normal</td>\n",
       "      <td>notpresent</td>\n",
       "      <td>notpresent</td>\n",
       "      <td>...</td>\n",
       "      <td>43.0</td>\n",
       "      <td>7200</td>\n",
       "      <td>5.5</td>\n",
       "      <td>no</td>\n",
       "      <td>no</td>\n",
       "      <td>no</td>\n",
       "      <td>good</td>\n",
       "      <td>no</td>\n",
       "      <td>no</td>\n",
       "      <td>notckd</td>\n",
       "    </tr>\n",
       "    <tr>\n",
       "      <th>4</th>\n",
       "      <td>24</td>\n",
       "      <td>42.0</td>\n",
       "      <td>100.0</td>\n",
       "      <td>1.015</td>\n",
       "      <td>4.0</td>\n",
       "      <td>0.0</td>\n",
       "      <td>normal</td>\n",
       "      <td>abnormal</td>\n",
       "      <td>notpresent</td>\n",
       "      <td>present</td>\n",
       "      <td>...</td>\n",
       "      <td>39.0</td>\n",
       "      <td>8300</td>\n",
       "      <td>4.6</td>\n",
       "      <td>yes</td>\n",
       "      <td>no</td>\n",
       "      <td>no</td>\n",
       "      <td>poor</td>\n",
       "      <td>no</td>\n",
       "      <td>no</td>\n",
       "      <td>ckd</td>\n",
       "    </tr>\n",
       "  </tbody>\n",
       "</table>\n",
       "<p>5 rows × 26 columns</p>\n",
       "</div>"
      ],
      "text/plain": [
       "    id   age     bp     sg   al   su     rbc        pc         pcc  \\\n",
       "0  157  62.0   70.0  1.025  3.0  0.0  normal  abnormal  notpresent   \n",
       "1  109  54.0   70.0    NaN  NaN  NaN     NaN       NaN  notpresent   \n",
       "2   17  47.0   80.0    NaN  NaN  NaN     NaN       NaN  notpresent   \n",
       "3  347  43.0   60.0  1.025  0.0  0.0  normal    normal  notpresent   \n",
       "4   24  42.0  100.0  1.015  4.0  0.0  normal  abnormal  notpresent   \n",
       "\n",
       "           ba  ...   pcv    wc   rc  htn   dm  cad  appet  pe ane  \\\n",
       "0  notpresent  ...  39.0  7900  3.9  yes  yes   no   good  no  no   \n",
       "1  notpresent  ...   NaN   NaN  NaN   no  yes   no   good  no  no   \n",
       "2  notpresent  ...   NaN   NaN  NaN  yes   no   no   poor  no  no   \n",
       "3  notpresent  ...  43.0  7200  5.5   no   no   no   good  no  no   \n",
       "4     present  ...  39.0  8300  4.6  yes   no   no   poor  no  no   \n",
       "\n",
       "  classification  \n",
       "0            ckd  \n",
       "1            ckd  \n",
       "2            ckd  \n",
       "3         notckd  \n",
       "4            ckd  \n",
       "\n",
       "[5 rows x 26 columns]"
      ]
     },
     "execution_count": 3,
     "metadata": {},
     "output_type": "execute_result"
    }
   ],
   "source": [
    "df.head()"
   ]
  },
  {
   "cell_type": "code",
   "execution_count": 4,
   "metadata": {},
   "outputs": [
    {
     "data": {
      "text/html": [
       "<div>\n",
       "<style scoped>\n",
       "    .dataframe tbody tr th:only-of-type {\n",
       "        vertical-align: middle;\n",
       "    }\n",
       "\n",
       "    .dataframe tbody tr th {\n",
       "        vertical-align: top;\n",
       "    }\n",
       "\n",
       "    .dataframe thead th {\n",
       "        text-align: right;\n",
       "    }\n",
       "</style>\n",
       "<table border=\"1\" class=\"dataframe\">\n",
       "  <thead>\n",
       "    <tr style=\"text-align: right;\">\n",
       "      <th></th>\n",
       "      <th>id</th>\n",
       "      <th>age</th>\n",
       "      <th>bp</th>\n",
       "      <th>sg</th>\n",
       "      <th>al</th>\n",
       "      <th>su</th>\n",
       "      <th>rbc</th>\n",
       "      <th>pc</th>\n",
       "      <th>pcc</th>\n",
       "      <th>ba</th>\n",
       "      <th>...</th>\n",
       "      <th>hemo</th>\n",
       "      <th>pcv</th>\n",
       "      <th>wc</th>\n",
       "      <th>rc</th>\n",
       "      <th>htn</th>\n",
       "      <th>dm</th>\n",
       "      <th>cad</th>\n",
       "      <th>appet</th>\n",
       "      <th>pe</th>\n",
       "      <th>ane</th>\n",
       "    </tr>\n",
       "  </thead>\n",
       "  <tbody>\n",
       "    <tr>\n",
       "      <th>0</th>\n",
       "      <td>209</td>\n",
       "      <td>19.0</td>\n",
       "      <td>70.0</td>\n",
       "      <td>1.020</td>\n",
       "      <td>0.0</td>\n",
       "      <td>0.0</td>\n",
       "      <td>NaN</td>\n",
       "      <td>normal</td>\n",
       "      <td>notpresent</td>\n",
       "      <td>notpresent</td>\n",
       "      <td>...</td>\n",
       "      <td>11.5</td>\n",
       "      <td>NaN</td>\n",
       "      <td>6900.0</td>\n",
       "      <td>NaN</td>\n",
       "      <td>no</td>\n",
       "      <td>no</td>\n",
       "      <td>no</td>\n",
       "      <td>good</td>\n",
       "      <td>no</td>\n",
       "      <td>no</td>\n",
       "    </tr>\n",
       "    <tr>\n",
       "      <th>1</th>\n",
       "      <td>280</td>\n",
       "      <td>47.0</td>\n",
       "      <td>80.0</td>\n",
       "      <td>NaN</td>\n",
       "      <td>NaN</td>\n",
       "      <td>NaN</td>\n",
       "      <td>NaN</td>\n",
       "      <td>NaN</td>\n",
       "      <td>notpresent</td>\n",
       "      <td>notpresent</td>\n",
       "      <td>...</td>\n",
       "      <td>13.3</td>\n",
       "      <td>52</td>\n",
       "      <td>8100.0</td>\n",
       "      <td>5.2</td>\n",
       "      <td>no</td>\n",
       "      <td>no</td>\n",
       "      <td>no</td>\n",
       "      <td>good</td>\n",
       "      <td>no</td>\n",
       "      <td>no</td>\n",
       "    </tr>\n",
       "    <tr>\n",
       "      <th>2</th>\n",
       "      <td>33</td>\n",
       "      <td>60.0</td>\n",
       "      <td>100.0</td>\n",
       "      <td>1.020</td>\n",
       "      <td>2.0</td>\n",
       "      <td>0.0</td>\n",
       "      <td>abnormal</td>\n",
       "      <td>abnormal</td>\n",
       "      <td>notpresent</td>\n",
       "      <td>notpresent</td>\n",
       "      <td>...</td>\n",
       "      <td>10.1</td>\n",
       "      <td>29</td>\n",
       "      <td>NaN</td>\n",
       "      <td>NaN</td>\n",
       "      <td>yes</td>\n",
       "      <td>no</td>\n",
       "      <td>no</td>\n",
       "      <td>poor</td>\n",
       "      <td>no</td>\n",
       "      <td>no</td>\n",
       "    </tr>\n",
       "    <tr>\n",
       "      <th>3</th>\n",
       "      <td>210</td>\n",
       "      <td>59.0</td>\n",
       "      <td>100.0</td>\n",
       "      <td>1.015</td>\n",
       "      <td>4.0</td>\n",
       "      <td>2.0</td>\n",
       "      <td>normal</td>\n",
       "      <td>normal</td>\n",
       "      <td>notpresent</td>\n",
       "      <td>notpresent</td>\n",
       "      <td>...</td>\n",
       "      <td>7.3</td>\n",
       "      <td>20</td>\n",
       "      <td>9800.0</td>\n",
       "      <td>3.9</td>\n",
       "      <td>yes</td>\n",
       "      <td>yes</td>\n",
       "      <td>yes</td>\n",
       "      <td>good</td>\n",
       "      <td>no</td>\n",
       "      <td>yes</td>\n",
       "    </tr>\n",
       "    <tr>\n",
       "      <th>4</th>\n",
       "      <td>93</td>\n",
       "      <td>73.0</td>\n",
       "      <td>100.0</td>\n",
       "      <td>1.010</td>\n",
       "      <td>3.0</td>\n",
       "      <td>2.0</td>\n",
       "      <td>abnormal</td>\n",
       "      <td>abnormal</td>\n",
       "      <td>present</td>\n",
       "      <td>notpresent</td>\n",
       "      <td>...</td>\n",
       "      <td>9.2</td>\n",
       "      <td>30</td>\n",
       "      <td>7000.0</td>\n",
       "      <td>3.2</td>\n",
       "      <td>yes</td>\n",
       "      <td>yes</td>\n",
       "      <td>yes</td>\n",
       "      <td>poor</td>\n",
       "      <td>no</td>\n",
       "      <td>no</td>\n",
       "    </tr>\n",
       "  </tbody>\n",
       "</table>\n",
       "<p>5 rows × 25 columns</p>\n",
       "</div>"
      ],
      "text/plain": [
       "    id   age     bp     sg   al   su       rbc        pc         pcc  \\\n",
       "0  209  19.0   70.0  1.020  0.0  0.0       NaN    normal  notpresent   \n",
       "1  280  47.0   80.0    NaN  NaN  NaN       NaN       NaN  notpresent   \n",
       "2   33  60.0  100.0  1.020  2.0  0.0  abnormal  abnormal  notpresent   \n",
       "3  210  59.0  100.0  1.015  4.0  2.0    normal    normal  notpresent   \n",
       "4   93  73.0  100.0  1.010  3.0  2.0  abnormal  abnormal     present   \n",
       "\n",
       "           ba  ...  hemo  pcv      wc   rc  htn   dm  cad  appet  pe  ane  \n",
       "0  notpresent  ...  11.5  NaN  6900.0  NaN   no   no   no   good  no   no  \n",
       "1  notpresent  ...  13.3   52  8100.0  5.2   no   no   no   good  no   no  \n",
       "2  notpresent  ...  10.1   29     NaN  NaN  yes   no   no   poor  no   no  \n",
       "3  notpresent  ...   7.3   20  9800.0  3.9  yes  yes  yes   good  no  yes  \n",
       "4  notpresent  ...   9.2   30  7000.0  3.2  yes  yes  yes   poor  no   no  \n",
       "\n",
       "[5 rows x 25 columns]"
      ]
     },
     "execution_count": 4,
     "metadata": {},
     "output_type": "execute_result"
    }
   ],
   "source": [
    "df_test.head()"
   ]
  },
  {
   "cell_type": "code",
   "execution_count": 5,
   "metadata": {},
   "outputs": [
    {
     "data": {
      "text/plain": [
       "280"
      ]
     },
     "execution_count": 5,
     "metadata": {},
     "output_type": "execute_result"
    }
   ],
   "source": [
    "len(df)\n"
   ]
  },
  {
   "cell_type": "code",
   "execution_count": 6,
   "metadata": {},
   "outputs": [
    {
     "data": {
      "text/plain": [
       "120"
      ]
     },
     "execution_count": 6,
     "metadata": {},
     "output_type": "execute_result"
    }
   ],
   "source": [
    "len(df_test)\n"
   ]
  },
  {
   "cell_type": "markdown",
   "metadata": {},
   "source": [
    "There are 400 rows, where 70% are for training and 30% are for testing."
   ]
  },
  {
   "cell_type": "code",
   "execution_count": 7,
   "metadata": {},
   "outputs": [
    {
     "data": {
      "text/plain": [
       "280"
      ]
     },
     "execution_count": 7,
     "metadata": {},
     "output_type": "execute_result"
    }
   ],
   "source": [
    "df.drop_duplicates()\n",
    "df_test.drop_duplicates()\n",
    "len(df)\n"
   ]
  },
  {
   "cell_type": "code",
   "execution_count": 8,
   "metadata": {},
   "outputs": [
    {
     "data": {
      "text/plain": [
       "120"
      ]
     },
     "execution_count": 8,
     "metadata": {},
     "output_type": "execute_result"
    }
   ],
   "source": [
    "len(df_test)\n"
   ]
  },
  {
   "cell_type": "markdown",
   "metadata": {},
   "source": [
    "### Data types"
   ]
  },
  {
   "cell_type": "code",
   "execution_count": 9,
   "metadata": {},
   "outputs": [
    {
     "data": {
      "text/plain": [
       "id                  int64\n",
       "age               float64\n",
       "bp                float64\n",
       "sg                float64\n",
       "al                float64\n",
       "su                float64\n",
       "rbc                object\n",
       "pc                 object\n",
       "pcc                object\n",
       "ba                 object\n",
       "bgr               float64\n",
       "bu                float64\n",
       "sc                float64\n",
       "sod               float64\n",
       "pot               float64\n",
       "hemo              float64\n",
       "pcv               float64\n",
       "wc                 object\n",
       "rc                 object\n",
       "htn                object\n",
       "dm                 object\n",
       "cad                object\n",
       "appet              object\n",
       "pe                 object\n",
       "ane                object\n",
       "classification     object\n",
       "dtype: object"
      ]
     },
     "execution_count": 9,
     "metadata": {},
     "output_type": "execute_result"
    }
   ],
   "source": [
    "df.dtypes"
   ]
  },
  {
   "cell_type": "markdown",
   "metadata": {},
   "source": [
    "### Check whether the target data is balanced\n",
    "Does the patient have chronic kidney disease or not?\n",
    "\n",
    "- ckd       Has chronic kidney disease\n",
    "- notckd    Does not have chronic kidney disease"
   ]
  },
  {
   "cell_type": "code",
   "execution_count": 46,
   "metadata": {},
   "outputs": [
    {
     "data": {
      "text/plain": [
       "1    174\n",
       "0    106\n",
       "Name: classification, dtype: int64"
      ]
     },
     "execution_count": 46,
     "metadata": {},
     "output_type": "execute_result"
    }
   ],
   "source": [
    "df.classification.value_counts()"
   ]
  },
  {
   "cell_type": "markdown",
   "metadata": {},
   "source": [
    "### Plot outliers for each numerical feature"
   ]
  },
  {
   "cell_type": "code",
   "execution_count": 11,
   "metadata": {},
   "outputs": [
    {
     "data": {
      "text/plain": [
       "<matplotlib.axes._subplots.AxesSubplot at 0x12c392e80>"
      ]
     },
     "execution_count": 11,
     "metadata": {},
     "output_type": "execute_result"
    },
    {
     "data": {
      "image/png": "[encoded data removed]",
      "text/plain": [
       "<Figure size 432x288 with 1 Axes>"
      ]
     },
     "metadata": {
      "needs_background": "light"
     },
     "output_type": "display_data"
    }
   ],
   "source": [
    "df.boxplot()\n"
   ]
  },
  {
   "cell_type": "raw",
   "metadata": {},
   "source": [
    "Later on the Tukey rule will be used to determine which values of the kidney features are outliers.\n",
    "\n",
    "The Tukey rule finds outliers in one-dimension. The steps are:\n",
    "\n",
    "* Find the first quartile (ie .25 quantile)\n",
    "* Find the third quartile (ie .75 quantile)\n",
    "* Calculate the inter-quartile range (Q3 - Q1)\n",
    "* Any value that is greater than Q3 + 1.5 * IQR is an outlier\n",
    "* Any value that is less than Qe - 1.5 * IQR is an outlier"
   ]
  },
  {
   "cell_type": "markdown",
   "metadata": {},
   "source": [
    "### Rename columns to clarify abbreviations and to show full names on plots"
   ]
  },
  {
   "cell_type": "code",
   "execution_count": 12,
   "metadata": {},
   "outputs": [],
   "source": [
    "df = df.rename(columns={'bp': 'blood_pressure','sg': 'specific_gravity','al': 'albumin','su': 'sugar',\n",
    "                   'rbc': 'red_blood_cells','pc': 'pus_cell','pcc': 'pus_cell_clumps','ba': 'bacteria',\n",
    "                   'bgr': 'blood_glucose_random','bu': 'blood_urea','sc': 'serum_creatinine',\n",
    "                   'sod': 'sodium','pot': 'potassium','hemo': 'hemoglobin','pcv': 'packed_cell_volume',\n",
    "                   'wc': 'white_blood_cell','rc': 'red_blood_cell','htn': 'hypertension','dm': 'diabetes_mellitus',\n",
    "                   'cad': 'coronary_artery_disease','appet': 'appetite','pe': 'pedal_edema','ane': 'anemia'})\n"
   ]
  },
  {
   "cell_type": "markdown",
   "metadata": {},
   "source": [
    "### Coerce numerical values from string to float"
   ]
  },
  {
   "cell_type": "code",
   "execution_count": 13,
   "metadata": {},
   "outputs": [],
   "source": [
    "df['white_blood_cell'] = pd.to_numeric(df['white_blood_cell'], errors='coerce')\n",
    "df['red_blood_cell'] = pd.to_numeric(df['red_blood_cell'], errors='coerce')"
   ]
  },
  {
   "cell_type": "markdown",
   "metadata": {},
   "source": [
    "### Create boolean values for each object feature"
   ]
  },
  {
   "cell_type": "code",
   "execution_count": 14,
   "metadata": {},
   "outputs": [],
   "source": [
    "df.red_blood_cells = df.red_blood_cells.map({ 'normal' : 1, 'abnormal' : 0})\n",
    "df.pus_cell = df.pus_cell.map({ 'normal' : 1, 'abnormal' : 0})\n",
    "df.pus_cell_clumps = df.pus_cell_clumps.map({ 'present' : 1, 'notpresent' : 0})\n",
    "df.bacteria = df.bacteria.map({ 'present' : 1, 'notpresent' : 0})\n",
    "df.hypertension = df.hypertension.map({ 'yes' : 1, 'no' : 0})\n",
    "df.diabetes_mellitus = df.diabetes_mellitus.map({ 'yes' : 1, '\\tyes' : 1, '\\tno' : 0, 'no' : 0})\n",
    "df.coronary_artery_disease = df.coronary_artery_disease.map({ 'yes' : 1, 'no' : 0, '\\tno' : 0})\n",
    "df.appetite = df.appetite.map({ 'good' : 1, 'poor' : 0})\n",
    "df.pedal_edema = df.pedal_edema.map({ 'yes' : 1, 'no' : 0})\n",
    "df.anemia = df.anemia.map({ 'yes' : 1, 'no' : 0})\n",
    "df.classification = df.classification.map({ 'ckd' : 1, 'notckd' : 0})"
   ]
  },
  {
   "cell_type": "code",
   "execution_count": 15,
   "metadata": {},
   "outputs": [
    {
     "data": {
      "text/plain": [
       "Index(['id', 'age', 'blood_pressure', 'specific_gravity', 'albumin', 'sugar',\n",
       "       'red_blood_cells', 'pus_cell', 'pus_cell_clumps', 'bacteria',\n",
       "       'blood_glucose_random', 'blood_urea', 'serum_creatinine', 'sodium',\n",
       "       'potassium', 'hemoglobin', 'packed_cell_volume', 'white_blood_cell',\n",
       "       'red_blood_cell', 'hypertension', 'diabetes_mellitus',\n",
       "       'coronary_artery_disease', 'appetite', 'pedal_edema', 'anemia',\n",
       "       'classification'],\n",
       "      dtype='object')"
      ]
     },
     "execution_count": 15,
     "metadata": {},
     "output_type": "execute_result"
    }
   ],
   "source": [
    "df.columns"
   ]
  },
  {
   "cell_type": "markdown",
   "metadata": {},
   "source": [
    "### Check how many null values are in the data set"
   ]
  },
  {
   "cell_type": "code",
   "execution_count": 16,
   "metadata": {},
   "outputs": [
    {
     "data": {
      "text/plain": [
       "id                           0\n",
       "age                          5\n",
       "blood_pressure               9\n",
       "specific_gravity            36\n",
       "albumin                     35\n",
       "sugar                       38\n",
       "red_blood_cells            107\n",
       "pus_cell                    50\n",
       "pus_cell_clumps              4\n",
       "bacteria                     4\n",
       "blood_glucose_random        33\n",
       "blood_urea                  14\n",
       "serum_creatinine            12\n",
       "sodium                      67\n",
       "potassium                   68\n",
       "hemoglobin                  39\n",
       "packed_cell_volume          51\n",
       "white_blood_cell            78\n",
       "red_blood_cell              94\n",
       "hypertension                 1\n",
       "diabetes_mellitus            1\n",
       "coronary_artery_disease      1\n",
       "appetite                     0\n",
       "pedal_edema                  0\n",
       "anemia                       0\n",
       "classification               0\n",
       "dtype: int64"
      ]
     },
     "execution_count": 16,
     "metadata": {},
     "output_type": "execute_result"
    }
   ],
   "source": [
    "df.isnull().sum()"
   ]
  },
  {
   "cell_type": "markdown",
   "metadata": {},
   "source": [
    "# Imputing Data\n",
    "### Fill the null values with the median value of each column then remove outliers\n",
    "\n",
    "We will fill in NaN values with suitable numbers. We don't want to lose features like red_blood_cells which is missing 107 out of 280 values, and we have filled object-type columns with boolean values so the median of each feature column will be used (instead of the mean)."
   ]
  },
  {
   "cell_type": "code",
   "execution_count": 17,
   "metadata": {},
   "outputs": [
    {
     "data": {
      "text/html": [
       "<div>\n",
       "<style scoped>\n",
       "    .dataframe tbody tr th:only-of-type {\n",
       "        vertical-align: middle;\n",
       "    }\n",
       "\n",
       "    .dataframe tbody tr th {\n",
       "        vertical-align: top;\n",
       "    }\n",
       "\n",
       "    .dataframe thead th {\n",
       "        text-align: right;\n",
       "    }\n",
       "</style>\n",
       "<table border=\"1\" class=\"dataframe\">\n",
       "  <thead>\n",
       "    <tr style=\"text-align: right;\">\n",
       "      <th></th>\n",
       "      <th>id</th>\n",
       "      <th>age</th>\n",
       "      <th>blood_pressure</th>\n",
       "      <th>specific_gravity</th>\n",
       "      <th>albumin</th>\n",
       "      <th>sugar</th>\n",
       "      <th>red_blood_cells</th>\n",
       "      <th>pus_cell</th>\n",
       "      <th>pus_cell_clumps</th>\n",
       "      <th>bacteria</th>\n",
       "      <th>...</th>\n",
       "      <th>packed_cell_volume</th>\n",
       "      <th>white_blood_cell</th>\n",
       "      <th>red_blood_cell</th>\n",
       "      <th>hypertension</th>\n",
       "      <th>diabetes_mellitus</th>\n",
       "      <th>coronary_artery_disease</th>\n",
       "      <th>appetite</th>\n",
       "      <th>pedal_edema</th>\n",
       "      <th>anemia</th>\n",
       "      <th>classification</th>\n",
       "    </tr>\n",
       "  </thead>\n",
       "  <tbody>\n",
       "    <tr>\n",
       "      <th>count</th>\n",
       "      <td>280.000000</td>\n",
       "      <td>275.000000</td>\n",
       "      <td>271.000000</td>\n",
       "      <td>244.000000</td>\n",
       "      <td>245.000000</td>\n",
       "      <td>242.000000</td>\n",
       "      <td>173.000000</td>\n",
       "      <td>230.000000</td>\n",
       "      <td>276.000000</td>\n",
       "      <td>276.000000</td>\n",
       "      <td>...</td>\n",
       "      <td>229.000000</td>\n",
       "      <td>202.000000</td>\n",
       "      <td>186.000000</td>\n",
       "      <td>279.000000</td>\n",
       "      <td>279.000000</td>\n",
       "      <td>279.000000</td>\n",
       "      <td>280.000000</td>\n",
       "      <td>280.000000</td>\n",
       "      <td>280.000000</td>\n",
       "      <td>280.000000</td>\n",
       "    </tr>\n",
       "    <tr>\n",
       "      <th>mean</th>\n",
       "      <td>202.928571</td>\n",
       "      <td>51.454545</td>\n",
       "      <td>76.051661</td>\n",
       "      <td>1.017439</td>\n",
       "      <td>1.024490</td>\n",
       "      <td>0.438017</td>\n",
       "      <td>0.832370</td>\n",
       "      <td>0.786957</td>\n",
       "      <td>0.094203</td>\n",
       "      <td>0.057971</td>\n",
       "      <td>...</td>\n",
       "      <td>39.165939</td>\n",
       "      <td>8354.950495</td>\n",
       "      <td>4.706452</td>\n",
       "      <td>0.365591</td>\n",
       "      <td>0.362007</td>\n",
       "      <td>0.082437</td>\n",
       "      <td>0.778571</td>\n",
       "      <td>0.182143</td>\n",
       "      <td>0.142857</td>\n",
       "      <td>0.621429</td>\n",
       "    </tr>\n",
       "    <tr>\n",
       "      <th>std</th>\n",
       "      <td>111.988168</td>\n",
       "      <td>17.476176</td>\n",
       "      <td>14.256289</td>\n",
       "      <td>0.005746</td>\n",
       "      <td>1.375805</td>\n",
       "      <td>1.073193</td>\n",
       "      <td>0.374622</td>\n",
       "      <td>0.410351</td>\n",
       "      <td>0.292641</td>\n",
       "      <td>0.234113</td>\n",
       "      <td>...</td>\n",
       "      <td>8.774388</td>\n",
       "      <td>3107.125537</td>\n",
       "      <td>1.029280</td>\n",
       "      <td>0.482461</td>\n",
       "      <td>0.481444</td>\n",
       "      <td>0.275524</td>\n",
       "      <td>0.415952</td>\n",
       "      <td>0.386653</td>\n",
       "      <td>0.350554</td>\n",
       "      <td>0.485899</td>\n",
       "    </tr>\n",
       "    <tr>\n",
       "      <th>min</th>\n",
       "      <td>1.000000</td>\n",
       "      <td>2.000000</td>\n",
       "      <td>50.000000</td>\n",
       "      <td>1.005000</td>\n",
       "      <td>0.000000</td>\n",
       "      <td>0.000000</td>\n",
       "      <td>0.000000</td>\n",
       "      <td>0.000000</td>\n",
       "      <td>0.000000</td>\n",
       "      <td>0.000000</td>\n",
       "      <td>...</td>\n",
       "      <td>9.000000</td>\n",
       "      <td>2200.000000</td>\n",
       "      <td>2.100000</td>\n",
       "      <td>0.000000</td>\n",
       "      <td>0.000000</td>\n",
       "      <td>0.000000</td>\n",
       "      <td>0.000000</td>\n",
       "      <td>0.000000</td>\n",
       "      <td>0.000000</td>\n",
       "      <td>0.000000</td>\n",
       "    </tr>\n",
       "    <tr>\n",
       "      <th>25%</th>\n",
       "      <td>110.500000</td>\n",
       "      <td>42.000000</td>\n",
       "      <td>70.000000</td>\n",
       "      <td>1.010000</td>\n",
       "      <td>0.000000</td>\n",
       "      <td>0.000000</td>\n",
       "      <td>1.000000</td>\n",
       "      <td>1.000000</td>\n",
       "      <td>0.000000</td>\n",
       "      <td>0.000000</td>\n",
       "      <td>...</td>\n",
       "      <td>33.000000</td>\n",
       "      <td>6325.000000</td>\n",
       "      <td>3.925000</td>\n",
       "      <td>0.000000</td>\n",
       "      <td>0.000000</td>\n",
       "      <td>0.000000</td>\n",
       "      <td>1.000000</td>\n",
       "      <td>0.000000</td>\n",
       "      <td>0.000000</td>\n",
       "      <td>0.000000</td>\n",
       "    </tr>\n",
       "    <tr>\n",
       "      <th>50%</th>\n",
       "      <td>202.000000</td>\n",
       "      <td>55.000000</td>\n",
       "      <td>70.000000</td>\n",
       "      <td>1.020000</td>\n",
       "      <td>0.000000</td>\n",
       "      <td>0.000000</td>\n",
       "      <td>1.000000</td>\n",
       "      <td>1.000000</td>\n",
       "      <td>0.000000</td>\n",
       "      <td>0.000000</td>\n",
       "      <td>...</td>\n",
       "      <td>41.000000</td>\n",
       "      <td>7900.000000</td>\n",
       "      <td>4.800000</td>\n",
       "      <td>0.000000</td>\n",
       "      <td>0.000000</td>\n",
       "      <td>0.000000</td>\n",
       "      <td>1.000000</td>\n",
       "      <td>0.000000</td>\n",
       "      <td>0.000000</td>\n",
       "      <td>1.000000</td>\n",
       "    </tr>\n",
       "    <tr>\n",
       "      <th>75%</th>\n",
       "      <td>302.250000</td>\n",
       "      <td>65.000000</td>\n",
       "      <td>80.000000</td>\n",
       "      <td>1.020000</td>\n",
       "      <td>2.000000</td>\n",
       "      <td>0.000000</td>\n",
       "      <td>1.000000</td>\n",
       "      <td>1.000000</td>\n",
       "      <td>0.000000</td>\n",
       "      <td>0.000000</td>\n",
       "      <td>...</td>\n",
       "      <td>46.000000</td>\n",
       "      <td>9800.000000</td>\n",
       "      <td>5.500000</td>\n",
       "      <td>1.000000</td>\n",
       "      <td>1.000000</td>\n",
       "      <td>0.000000</td>\n",
       "      <td>1.000000</td>\n",
       "      <td>0.000000</td>\n",
       "      <td>0.000000</td>\n",
       "      <td>1.000000</td>\n",
       "    </tr>\n",
       "    <tr>\n",
       "      <th>max</th>\n",
       "      <td>399.000000</td>\n",
       "      <td>90.000000</td>\n",
       "      <td>180.000000</td>\n",
       "      <td>1.025000</td>\n",
       "      <td>5.000000</td>\n",
       "      <td>5.000000</td>\n",
       "      <td>1.000000</td>\n",
       "      <td>1.000000</td>\n",
       "      <td>1.000000</td>\n",
       "      <td>1.000000</td>\n",
       "      <td>...</td>\n",
       "      <td>54.000000</td>\n",
       "      <td>26400.000000</td>\n",
       "      <td>8.000000</td>\n",
       "      <td>1.000000</td>\n",
       "      <td>1.000000</td>\n",
       "      <td>1.000000</td>\n",
       "      <td>1.000000</td>\n",
       "      <td>1.000000</td>\n",
       "      <td>1.000000</td>\n",
       "      <td>1.000000</td>\n",
       "    </tr>\n",
       "  </tbody>\n",
       "</table>\n",
       "<p>8 rows × 26 columns</p>\n",
       "</div>"
      ],
      "text/plain": [
       "               id         age  blood_pressure  specific_gravity     albumin  \\\n",
       "count  280.000000  275.000000      271.000000        244.000000  245.000000   \n",
       "mean   202.928571   51.454545       76.051661          1.017439    1.024490   \n",
       "std    111.988168   17.476176       14.256289          0.005746    1.375805   \n",
       "min      1.000000    2.000000       50.000000          1.005000    0.000000   \n",
       "25%    110.500000   42.000000       70.000000          1.010000    0.000000   \n",
       "50%    202.000000   55.000000       70.000000          1.020000    0.000000   \n",
       "75%    302.250000   65.000000       80.000000          1.020000    2.000000   \n",
       "max    399.000000   90.000000      180.000000          1.025000    5.000000   \n",
       "\n",
       "            sugar  red_blood_cells    pus_cell  pus_cell_clumps    bacteria  \\\n",
       "count  242.000000       173.000000  230.000000       276.000000  276.000000   \n",
       "mean     0.438017         0.832370    0.786957         0.094203    0.057971   \n",
       "std      1.073193         0.374622    0.410351         0.292641    0.234113   \n",
       "min      0.000000         0.000000    0.000000         0.000000    0.000000   \n",
       "25%      0.000000         1.000000    1.000000         0.000000    0.000000   \n",
       "50%      0.000000         1.000000    1.000000         0.000000    0.000000   \n",
       "75%      0.000000         1.000000    1.000000         0.000000    0.000000   \n",
       "max      5.000000         1.000000    1.000000         1.000000    1.000000   \n",
       "\n",
       "       ...  packed_cell_volume  white_blood_cell  red_blood_cell  \\\n",
       "count  ...          229.000000        202.000000      186.000000   \n",
       "mean   ...           39.165939       8354.950495        4.706452   \n",
       "std    ...            8.774388       3107.125537        1.029280   \n",
       "min    ...            9.000000       2200.000000        2.100000   \n",
       "25%    ...           33.000000       6325.000000        3.925000   \n",
       "50%    ...           41.000000       7900.000000        4.800000   \n",
       "75%    ...           46.000000       9800.000000        5.500000   \n",
       "max    ...           54.000000      26400.000000        8.000000   \n",
       "\n",
       "       hypertension  diabetes_mellitus  coronary_artery_disease    appetite  \\\n",
       "count    279.000000         279.000000               279.000000  280.000000   \n",
       "mean       0.365591           0.362007                 0.082437    0.778571   \n",
       "std        0.482461           0.481444                 0.275524    0.415952   \n",
       "min        0.000000           0.000000                 0.000000    0.000000   \n",
       "25%        0.000000           0.000000                 0.000000    1.000000   \n",
       "50%        0.000000           0.000000                 0.000000    1.000000   \n",
       "75%        1.000000           1.000000                 0.000000    1.000000   \n",
       "max        1.000000           1.000000                 1.000000    1.000000   \n",
       "\n",
       "       pedal_edema      anemia  classification  \n",
       "count   280.000000  280.000000      280.000000  \n",
       "mean      0.182143    0.142857        0.621429  \n",
       "std       0.386653    0.350554        0.485899  \n",
       "min       0.000000    0.000000        0.000000  \n",
       "25%       0.000000    0.000000        0.000000  \n",
       "50%       0.000000    0.000000        1.000000  \n",
       "75%       0.000000    0.000000        1.000000  \n",
       "max       1.000000    1.000000        1.000000  \n",
       "\n",
       "[8 rows x 26 columns]"
      ]
     },
     "execution_count": 17,
     "metadata": {},
     "output_type": "execute_result"
    }
   ],
   "source": [
    "df.describe()"
   ]
  },
  {
   "cell_type": "code",
   "execution_count": 18,
   "metadata": {},
   "outputs": [
    {
     "data": {
      "text/html": [
       "<div>\n",
       "<style scoped>\n",
       "    .dataframe tbody tr th:only-of-type {\n",
       "        vertical-align: middle;\n",
       "    }\n",
       "\n",
       "    .dataframe tbody tr th {\n",
       "        vertical-align: top;\n",
       "    }\n",
       "\n",
       "    .dataframe thead th {\n",
       "        text-align: right;\n",
       "    }\n",
       "</style>\n",
       "<table border=\"1\" class=\"dataframe\">\n",
       "  <thead>\n",
       "    <tr style=\"text-align: right;\">\n",
       "      <th></th>\n",
       "      <th>id</th>\n",
       "      <th>age</th>\n",
       "      <th>blood_pressure</th>\n",
       "      <th>specific_gravity</th>\n",
       "      <th>albumin</th>\n",
       "      <th>sugar</th>\n",
       "      <th>red_blood_cells</th>\n",
       "      <th>pus_cell</th>\n",
       "      <th>pus_cell_clumps</th>\n",
       "      <th>bacteria</th>\n",
       "      <th>...</th>\n",
       "      <th>serum_creatinine_filled</th>\n",
       "      <th>sodium_filled</th>\n",
       "      <th>potassium_filled</th>\n",
       "      <th>hemoglobin_filled</th>\n",
       "      <th>packed_cell_volume_filled</th>\n",
       "      <th>white_blood_cell_filled</th>\n",
       "      <th>red_blood_cell_filled</th>\n",
       "      <th>hypertension_filled</th>\n",
       "      <th>diabetes_mellitus_filled</th>\n",
       "      <th>coronary_artery_disease_filled</th>\n",
       "    </tr>\n",
       "  </thead>\n",
       "  <tbody>\n",
       "    <tr>\n",
       "      <th>0</th>\n",
       "      <td>157</td>\n",
       "      <td>62.0</td>\n",
       "      <td>70.0</td>\n",
       "      <td>1.025</td>\n",
       "      <td>3.0</td>\n",
       "      <td>0.0</td>\n",
       "      <td>1.0</td>\n",
       "      <td>0.0</td>\n",
       "      <td>0.0</td>\n",
       "      <td>0.0</td>\n",
       "      <td>...</td>\n",
       "      <td>1.7</td>\n",
       "      <td>136.0</td>\n",
       "      <td>4.7</td>\n",
       "      <td>12.6</td>\n",
       "      <td>39.0</td>\n",
       "      <td>7900.0</td>\n",
       "      <td>3.9</td>\n",
       "      <td>1.0</td>\n",
       "      <td>1.0</td>\n",
       "      <td>0.0</td>\n",
       "    </tr>\n",
       "    <tr>\n",
       "      <th>1</th>\n",
       "      <td>109</td>\n",
       "      <td>54.0</td>\n",
       "      <td>70.0</td>\n",
       "      <td>NaN</td>\n",
       "      <td>NaN</td>\n",
       "      <td>NaN</td>\n",
       "      <td>NaN</td>\n",
       "      <td>NaN</td>\n",
       "      <td>0.0</td>\n",
       "      <td>0.0</td>\n",
       "      <td>...</td>\n",
       "      <td>1.9</td>\n",
       "      <td>138.0</td>\n",
       "      <td>4.4</td>\n",
       "      <td>11.7</td>\n",
       "      <td>41.0</td>\n",
       "      <td>7900.0</td>\n",
       "      <td>4.8</td>\n",
       "      <td>0.0</td>\n",
       "      <td>1.0</td>\n",
       "      <td>0.0</td>\n",
       "    </tr>\n",
       "    <tr>\n",
       "      <th>2</th>\n",
       "      <td>17</td>\n",
       "      <td>47.0</td>\n",
       "      <td>80.0</td>\n",
       "      <td>NaN</td>\n",
       "      <td>NaN</td>\n",
       "      <td>NaN</td>\n",
       "      <td>NaN</td>\n",
       "      <td>NaN</td>\n",
       "      <td>0.0</td>\n",
       "      <td>0.0</td>\n",
       "      <td>...</td>\n",
       "      <td>5.2</td>\n",
       "      <td>139.0</td>\n",
       "      <td>3.7</td>\n",
       "      <td>12.1</td>\n",
       "      <td>41.0</td>\n",
       "      <td>7900.0</td>\n",
       "      <td>4.8</td>\n",
       "      <td>1.0</td>\n",
       "      <td>0.0</td>\n",
       "      <td>0.0</td>\n",
       "    </tr>\n",
       "    <tr>\n",
       "      <th>3</th>\n",
       "      <td>347</td>\n",
       "      <td>43.0</td>\n",
       "      <td>60.0</td>\n",
       "      <td>1.025</td>\n",
       "      <td>0.0</td>\n",
       "      <td>0.0</td>\n",
       "      <td>1.0</td>\n",
       "      <td>1.0</td>\n",
       "      <td>0.0</td>\n",
       "      <td>0.0</td>\n",
       "      <td>...</td>\n",
       "      <td>1.0</td>\n",
       "      <td>144.0</td>\n",
       "      <td>5.0</td>\n",
       "      <td>17.8</td>\n",
       "      <td>43.0</td>\n",
       "      <td>7200.0</td>\n",
       "      <td>5.5</td>\n",
       "      <td>0.0</td>\n",
       "      <td>0.0</td>\n",
       "      <td>0.0</td>\n",
       "    </tr>\n",
       "    <tr>\n",
       "      <th>4</th>\n",
       "      <td>24</td>\n",
       "      <td>42.0</td>\n",
       "      <td>100.0</td>\n",
       "      <td>1.015</td>\n",
       "      <td>4.0</td>\n",
       "      <td>0.0</td>\n",
       "      <td>1.0</td>\n",
       "      <td>0.0</td>\n",
       "      <td>0.0</td>\n",
       "      <td>1.0</td>\n",
       "      <td>...</td>\n",
       "      <td>1.4</td>\n",
       "      <td>129.0</td>\n",
       "      <td>4.0</td>\n",
       "      <td>11.1</td>\n",
       "      <td>39.0</td>\n",
       "      <td>8300.0</td>\n",
       "      <td>4.6</td>\n",
       "      <td>1.0</td>\n",
       "      <td>0.0</td>\n",
       "      <td>0.0</td>\n",
       "    </tr>\n",
       "    <tr>\n",
       "      <th>...</th>\n",
       "      <td>...</td>\n",
       "      <td>...</td>\n",
       "      <td>...</td>\n",
       "      <td>...</td>\n",
       "      <td>...</td>\n",
       "      <td>...</td>\n",
       "      <td>...</td>\n",
       "      <td>...</td>\n",
       "      <td>...</td>\n",
       "      <td>...</td>\n",
       "      <td>...</td>\n",
       "      <td>...</td>\n",
       "      <td>...</td>\n",
       "      <td>...</td>\n",
       "      <td>...</td>\n",
       "      <td>...</td>\n",
       "      <td>...</td>\n",
       "      <td>...</td>\n",
       "      <td>...</td>\n",
       "      <td>...</td>\n",
       "      <td>...</td>\n",
       "    </tr>\n",
       "    <tr>\n",
       "      <th>275</th>\n",
       "      <td>71</td>\n",
       "      <td>46.0</td>\n",
       "      <td>60.0</td>\n",
       "      <td>1.010</td>\n",
       "      <td>1.0</td>\n",
       "      <td>0.0</td>\n",
       "      <td>1.0</td>\n",
       "      <td>1.0</td>\n",
       "      <td>0.0</td>\n",
       "      <td>0.0</td>\n",
       "      <td>...</td>\n",
       "      <td>3.3</td>\n",
       "      <td>141.0</td>\n",
       "      <td>4.0</td>\n",
       "      <td>9.8</td>\n",
       "      <td>28.0</td>\n",
       "      <td>14600.0</td>\n",
       "      <td>3.2</td>\n",
       "      <td>1.0</td>\n",
       "      <td>1.0</td>\n",
       "      <td>0.0</td>\n",
       "    </tr>\n",
       "    <tr>\n",
       "      <th>276</th>\n",
       "      <td>106</td>\n",
       "      <td>50.0</td>\n",
       "      <td>90.0</td>\n",
       "      <td>NaN</td>\n",
       "      <td>NaN</td>\n",
       "      <td>NaN</td>\n",
       "      <td>NaN</td>\n",
       "      <td>NaN</td>\n",
       "      <td>0.0</td>\n",
       "      <td>0.0</td>\n",
       "      <td>...</td>\n",
       "      <td>6.1</td>\n",
       "      <td>127.0</td>\n",
       "      <td>4.4</td>\n",
       "      <td>6.0</td>\n",
       "      <td>17.0</td>\n",
       "      <td>6500.0</td>\n",
       "      <td>4.8</td>\n",
       "      <td>1.0</td>\n",
       "      <td>1.0</td>\n",
       "      <td>0.0</td>\n",
       "    </tr>\n",
       "    <tr>\n",
       "      <th>277</th>\n",
       "      <td>270</td>\n",
       "      <td>23.0</td>\n",
       "      <td>80.0</td>\n",
       "      <td>1.025</td>\n",
       "      <td>0.0</td>\n",
       "      <td>0.0</td>\n",
       "      <td>1.0</td>\n",
       "      <td>1.0</td>\n",
       "      <td>0.0</td>\n",
       "      <td>0.0</td>\n",
       "      <td>...</td>\n",
       "      <td>1.1</td>\n",
       "      <td>145.0</td>\n",
       "      <td>4.0</td>\n",
       "      <td>14.3</td>\n",
       "      <td>41.0</td>\n",
       "      <td>7200.0</td>\n",
       "      <td>5.0</td>\n",
       "      <td>0.0</td>\n",
       "      <td>0.0</td>\n",
       "      <td>0.0</td>\n",
       "    </tr>\n",
       "    <tr>\n",
       "      <th>278</th>\n",
       "      <td>348</td>\n",
       "      <td>38.0</td>\n",
       "      <td>80.0</td>\n",
       "      <td>1.020</td>\n",
       "      <td>0.0</td>\n",
       "      <td>0.0</td>\n",
       "      <td>1.0</td>\n",
       "      <td>1.0</td>\n",
       "      <td>0.0</td>\n",
       "      <td>0.0</td>\n",
       "      <td>...</td>\n",
       "      <td>0.5</td>\n",
       "      <td>147.0</td>\n",
       "      <td>3.5</td>\n",
       "      <td>13.6</td>\n",
       "      <td>44.0</td>\n",
       "      <td>7300.0</td>\n",
       "      <td>6.4</td>\n",
       "      <td>0.0</td>\n",
       "      <td>0.0</td>\n",
       "      <td>0.0</td>\n",
       "    </tr>\n",
       "    <tr>\n",
       "      <th>279</th>\n",
       "      <td>102</td>\n",
       "      <td>17.0</td>\n",
       "      <td>60.0</td>\n",
       "      <td>1.010</td>\n",
       "      <td>0.0</td>\n",
       "      <td>0.0</td>\n",
       "      <td>NaN</td>\n",
       "      <td>1.0</td>\n",
       "      <td>0.0</td>\n",
       "      <td>0.0</td>\n",
       "      <td>...</td>\n",
       "      <td>2.1</td>\n",
       "      <td>141.0</td>\n",
       "      <td>4.2</td>\n",
       "      <td>13.9</td>\n",
       "      <td>52.0</td>\n",
       "      <td>7000.0</td>\n",
       "      <td>4.8</td>\n",
       "      <td>0.0</td>\n",
       "      <td>0.0</td>\n",
       "      <td>0.0</td>\n",
       "    </tr>\n",
       "  </tbody>\n",
       "</table>\n",
       "<p>280 rows × 47 columns</p>\n",
       "</div>"
      ],
      "text/plain": [
       "      id   age  blood_pressure  specific_gravity  albumin  sugar  \\\n",
       "0    157  62.0            70.0             1.025      3.0    0.0   \n",
       "1    109  54.0            70.0               NaN      NaN    NaN   \n",
       "2     17  47.0            80.0               NaN      NaN    NaN   \n",
       "3    347  43.0            60.0             1.025      0.0    0.0   \n",
       "4     24  42.0           100.0             1.015      4.0    0.0   \n",
       "..   ...   ...             ...               ...      ...    ...   \n",
       "275   71  46.0            60.0             1.010      1.0    0.0   \n",
       "276  106  50.0            90.0               NaN      NaN    NaN   \n",
       "277  270  23.0            80.0             1.025      0.0    0.0   \n",
       "278  348  38.0            80.0             1.020      0.0    0.0   \n",
       "279  102  17.0            60.0             1.010      0.0    0.0   \n",
       "\n",
       "     red_blood_cells  pus_cell  pus_cell_clumps  bacteria  ...  \\\n",
       "0                1.0       0.0              0.0       0.0  ...   \n",
       "1                NaN       NaN              0.0       0.0  ...   \n",
       "2                NaN       NaN              0.0       0.0  ...   \n",
       "3                1.0       1.0              0.0       0.0  ...   \n",
       "4                1.0       0.0              0.0       1.0  ...   \n",
       "..               ...       ...              ...       ...  ...   \n",
       "275              1.0       1.0              0.0       0.0  ...   \n",
       "276              NaN       NaN              0.0       0.0  ...   \n",
       "277              1.0       1.0              0.0       0.0  ...   \n",
       "278              1.0       1.0              0.0       0.0  ...   \n",
       "279              NaN       1.0              0.0       0.0  ...   \n",
       "\n",
       "     serum_creatinine_filled  sodium_filled  potassium_filled  \\\n",
       "0                        1.7          136.0               4.7   \n",
       "1                        1.9          138.0               4.4   \n",
       "2                        5.2          139.0               3.7   \n",
       "3                        1.0          144.0               5.0   \n",
       "4                        1.4          129.0               4.0   \n",
       "..                       ...            ...               ...   \n",
       "275                      3.3          141.0               4.0   \n",
       "276                      6.1          127.0               4.4   \n",
       "277                      1.1          145.0               4.0   \n",
       "278                      0.5          147.0               3.5   \n",
       "279                      2.1          141.0               4.2   \n",
       "\n",
       "     hemoglobin_filled  packed_cell_volume_filled  white_blood_cell_filled  \\\n",
       "0                 12.6                       39.0                   7900.0   \n",
       "1                 11.7                       41.0                   7900.0   \n",
       "2                 12.1                       41.0                   7900.0   \n",
       "3                 17.8                       43.0                   7200.0   \n",
       "4                 11.1                       39.0                   8300.0   \n",
       "..                 ...                        ...                      ...   \n",
       "275                9.8                       28.0                  14600.0   \n",
       "276                6.0                       17.0                   6500.0   \n",
       "277               14.3                       41.0                   7200.0   \n",
       "278               13.6                       44.0                   7300.0   \n",
       "279               13.9                       52.0                   7000.0   \n",
       "\n",
       "     red_blood_cell_filled  hypertension_filled  diabetes_mellitus_filled  \\\n",
       "0                      3.9                  1.0                       1.0   \n",
       "1                      4.8                  0.0                       1.0   \n",
       "2                      4.8                  1.0                       0.0   \n",
       "3                      5.5                  0.0                       0.0   \n",
       "4                      4.6                  1.0                       0.0   \n",
       "..                     ...                  ...                       ...   \n",
       "275                    3.2                  1.0                       1.0   \n",
       "276                    4.8                  1.0                       1.0   \n",
       "277                    5.0                  0.0                       0.0   \n",
       "278                    6.4                  0.0                       0.0   \n",
       "279                    4.8                  0.0                       0.0   \n",
       "\n",
       "     coronary_artery_disease_filled  \n",
       "0                               0.0  \n",
       "1                               0.0  \n",
       "2                               0.0  \n",
       "3                               0.0  \n",
       "4                               0.0  \n",
       "..                              ...  \n",
       "275                             0.0  \n",
       "276                             0.0  \n",
       "277                             0.0  \n",
       "278                             0.0  \n",
       "279                             0.0  \n",
       "\n",
       "[280 rows x 47 columns]"
      ]
     },
     "execution_count": 18,
     "metadata": {},
     "output_type": "execute_result"
    }
   ],
   "source": [
    "def fill_nans():\n",
    "    for col in df.columns:\n",
    "        if df[col].dtype == 'float64':\n",
    "            new_col = str(col + '_filled')\n",
    "            df[new_col] = df[col].transform(lambda x: x.fillna(x.median()))\n",
    "    return df\n",
    "\n",
    "fill_nans()"
   ]
  },
  {
   "cell_type": "markdown",
   "metadata": {},
   "source": [
    "### Re-check how many null values are in the data set"
   ]
  },
  {
   "cell_type": "code",
   "execution_count": 19,
   "metadata": {},
   "outputs": [
    {
     "data": {
      "text/plain": [
       "id                                  0\n",
       "age                                 5\n",
       "blood_pressure                      9\n",
       "specific_gravity                   36\n",
       "albumin                            35\n",
       "sugar                              38\n",
       "red_blood_cells                   107\n",
       "pus_cell                           50\n",
       "pus_cell_clumps                     4\n",
       "bacteria                            4\n",
       "blood_glucose_random               33\n",
       "blood_urea                         14\n",
       "serum_creatinine                   12\n",
       "sodium                             67\n",
       "potassium                          68\n",
       "hemoglobin                         39\n",
       "packed_cell_volume                 51\n",
       "white_blood_cell                   78\n",
       "red_blood_cell                     94\n",
       "hypertension                        1\n",
       "diabetes_mellitus                   1\n",
       "coronary_artery_disease             1\n",
       "appetite                            0\n",
       "pedal_edema                         0\n",
       "anemia                              0\n",
       "classification                      0\n",
       "age_filled                          0\n",
       "blood_pressure_filled               0\n",
       "specific_gravity_filled             0\n",
       "albumin_filled                      0\n",
       "sugar_filled                        0\n",
       "red_blood_cells_filled              0\n",
       "pus_cell_filled                     0\n",
       "pus_cell_clumps_filled              0\n",
       "bacteria_filled                     0\n",
       "blood_glucose_random_filled         0\n",
       "blood_urea_filled                   0\n",
       "serum_creatinine_filled             0\n",
       "sodium_filled                       0\n",
       "potassium_filled                    0\n",
       "hemoglobin_filled                   0\n",
       "packed_cell_volume_filled           0\n",
       "white_blood_cell_filled             0\n",
       "red_blood_cell_filled               0\n",
       "hypertension_filled                 0\n",
       "diabetes_mellitus_filled            0\n",
       "coronary_artery_disease_filled      0\n",
       "dtype: int64"
      ]
     },
     "execution_count": 19,
     "metadata": {},
     "output_type": "execute_result"
    }
   ],
   "source": [
    "df.isnull().sum()"
   ]
  },
  {
   "cell_type": "markdown",
   "metadata": {},
   "source": [
    "### The new columns have no NaN values, so we'll drop the original columns and use the newly filled columns.\n",
    "### A new dataframe will be created with the filled columns"
   ]
  },
  {
   "cell_type": "code",
   "execution_count": 20,
   "metadata": {},
   "outputs": [],
   "source": [
    "# Drop columns which have not been filled\n",
    "new_df = df.drop(columns=['age', 'blood_pressure', 'specific_gravity',\n",
    "                          'albumin', 'sugar', 'red_blood_cells', 'pus_cell',\n",
    "                          'pus_cell_clumps', 'bacteria','blood_glucose_random',\n",
    "                          'blood_urea', 'serum_creatinine', 'sodium','potassium',\n",
    "                          'hemoglobin', 'packed_cell_volume', 'white_blood_cell',\n",
    "                          'red_blood_cell', 'hypertension', 'diabetes_mellitus',\n",
    "                          'coronary_artery_disease'])\n",
    "\n",
    "# Re-order columns to match the original df\n",
    "new_df = new_df[['id', 'age_filled', 'blood_pressure_filled',\n",
    "           'specific_gravity_filled', 'albumin_filled', 'sugar_filled',\n",
    "           'red_blood_cells_filled', 'pus_cell_filled', 'pus_cell_clumps_filled',\n",
    "           'bacteria_filled', 'blood_glucose_random_filled', 'blood_urea_filled',\n",
    "           'serum_creatinine_filled', 'sodium_filled', 'potassium_filled',\n",
    "           'hemoglobin_filled', 'packed_cell_volume_filled',\n",
    "           'white_blood_cell_filled', 'red_blood_cell_filled',\n",
    "           'hypertension_filled', 'diabetes_mellitus_filled',\n",
    "           'coronary_artery_disease_filled','appetite',\n",
    "           'pedal_edema', 'anemia','classification']]"
   ]
  },
  {
   "cell_type": "markdown",
   "metadata": {},
   "source": [
    "### Find and remove outliers\n",
    "- An assumption of binary logistic regression is there should be no outliers in the data\n",
    "- Identify outliers using the Tukey rule"
   ]
  },
  {
   "cell_type": "code",
   "execution_count": 21,
   "metadata": {},
   "outputs": [],
   "source": [
    "def find_outliers(col):\n",
    "    \n",
    "    # Calculate the first quartile\n",
    "    Q1 = df[col].quantile(.25)\n",
    "\n",
    "    # Calculate the third quartile\n",
    "    Q3 = df[col].quantile(.75)\n",
    "\n",
    "    # Calculate the interquartile range Q3 - Q1\n",
    "    IQR = Q3 - Q1\n",
    "    IQR\n",
    "\n",
    "    # Calculate the maximum value and minimum values according to the Tukey rule\n",
    "    # max_value is Q3 + 1.5 * IQR while min_value is Q1 - 1.5 * IQR\n",
    "\n",
    "    max_value = Q3 + 1.5 * IQR\n",
    "    min_value = Q1 - 1.5 * IQR\n",
    "\n",
    "    # Filter the training data for values that are greater than max_value or less than min_value\n",
    "    outliers = df[(df[col] > max_value) | (df[col] < min_value)]\n",
    "    return outliers\n"
   ]
  },
  {
   "cell_type": "code",
   "execution_count": 22,
   "metadata": {},
   "outputs": [
    {
     "data": {
      "text/plain": [
       "Index(['id', 'age_filled', 'blood_pressure_filled', 'specific_gravity_filled',\n",
       "       'albumin_filled', 'sugar_filled', 'red_blood_cells_filled',\n",
       "       'pus_cell_filled', 'pus_cell_clumps_filled', 'bacteria_filled',\n",
       "       'blood_glucose_random_filled', 'blood_urea_filled',\n",
       "       'serum_creatinine_filled', 'sodium_filled', 'potassium_filled',\n",
       "       'hemoglobin_filled', 'packed_cell_volume_filled',\n",
       "       'white_blood_cell_filled', 'red_blood_cell_filled',\n",
       "       'hypertension_filled', 'diabetes_mellitus_filled',\n",
       "       'coronary_artery_disease_filled', 'appetite', 'pedal_edema', 'anemia',\n",
       "       'classification'],\n",
       "      dtype='object')"
      ]
     },
     "execution_count": 22,
     "metadata": {},
     "output_type": "execute_result"
    }
   ],
   "source": [
    "new_df.columns"
   ]
  },
  {
   "cell_type": "markdown",
   "metadata": {},
   "source": [
    "### Find outliers in each feature column except the 'id'"
   ]
  },
  {
   "cell_type": "code",
   "execution_count": 23,
   "metadata": {},
   "outputs": [],
   "source": [
    "age_outliers = find_outliers('age_filled')\n",
    "bp_outliers = find_outliers('blood_pressure_filled')\n",
    "sg_outliers = find_outliers('specific_gravity_filled')\n",
    "alb_outliers = find_outliers('albumin_filled')\n",
    "sug_outliers = find_outliers('sugar_filled')\n",
    "rbcs_outliers = find_outliers('red_blood_cells_filled')\n",
    "pc_outliers = find_outliers('pus_cell_filled')\n",
    "pcc_outliers = find_outliers('pus_cell_clumps_filled')\n",
    "bac_outliers = find_outliers('bacteria_filled')\n",
    "bgr_outliers = find_outliers('blood_glucose_random_filled')\n",
    "bu_outliers = find_outliers('blood_urea_filled')\n",
    "sc_outliers = find_outliers('serum_creatinine_filled')\n",
    "sod_outliers = find_outliers('sodium_filled')\n",
    "pot_outliers = find_outliers('potassium_filled')\n",
    "hem_outliers = find_outliers('hemoglobin_filled')\n",
    "pcv_outliers = find_outliers('packed_cell_volume_filled')\n",
    "wbc_outliers = find_outliers('white_blood_cell_filled')\n",
    "rbc_outliers = find_outliers('red_blood_cell_filled')\n",
    "htn_outliers = find_outliers('hypertension_filled')\n",
    "dm_outliers = find_outliers('diabetes_mellitus_filled')   \n",
    "cad_outliers = find_outliers('coronary_artery_disease_filled')\n",
    "ap_outliers = find_outliers('appetite')\n",
    "pe_outliers = find_outliers('pedal_edema')\n",
    "ane_outliers = find_outliers('anemia')\n"
   ]
  },
  {
   "cell_type": "markdown",
   "metadata": {},
   "source": [
    "### Merge outlier dfs and remove all rows in one go\n",
    "Compile the list of dataframes to be merged"
   ]
  },
  {
   "cell_type": "code",
   "execution_count": 24,
   "metadata": {},
   "outputs": [],
   "source": [
    "all_outliers = [age_outliers,\n",
    "                bp_outliers,\n",
    "                sg_outliers,\n",
    "                alb_outliers,\n",
    "                sug_outliers,\n",
    "                rbcs_outliers,\n",
    "                pc_outliers,\n",
    "                pcc_outliers,\n",
    "                bac_outliers,\n",
    "                bgr_outliers,\n",
    "                bu_outliers,\n",
    "                sc_outliers,\n",
    "                sod_outliers,\n",
    "                pot_outliers,\n",
    "                hem_outliers,\n",
    "                pcv_outliers,\n",
    "                wbc_outliers,\n",
    "                rbc_outliers,\n",
    "                htn_outliers,\n",
    "                dm_outliers,  \n",
    "                cad_outliers,\n",
    "                ap_outliers,\n",
    "                pe_outliers,\n",
    "                ane_outliers]"
   ]
  },
  {
   "cell_type": "code",
   "execution_count": 26,
   "metadata": {},
   "outputs": [],
   "source": [
    "df_outliers = pd.concat(all_outliers)"
   ]
  },
  {
   "cell_type": "markdown",
   "metadata": {},
   "source": [
    "### Most outliers are classified as having chronic kidney disease\n",
    "This could indicate the importance of keeping these patients in the dataset."
   ]
  },
  {
   "cell_type": "code",
   "execution_count": 45,
   "metadata": {},
   "outputs": [
    {
     "data": {
      "text/plain": [
       "567"
      ]
     },
     "execution_count": 45,
     "metadata": {},
     "output_type": "execute_result"
    }
   ],
   "source": [
    "len(df_outliers)"
   ]
  },
  {
   "cell_type": "code",
   "execution_count": 44,
   "metadata": {},
   "outputs": [
    {
     "data": {
      "text/plain": [
       "538"
      ]
     },
     "execution_count": 44,
     "metadata": {},
     "output_type": "execute_result"
    }
   ],
   "source": [
    "len(df_outliers[df_outliers.classification == 1])"
   ]
  },
  {
   "cell_type": "code",
   "execution_count": 28,
   "metadata": {},
   "outputs": [
    {
     "data": {
      "text/html": [
       "<div>\n",
       "<style scoped>\n",
       "    .dataframe tbody tr th:only-of-type {\n",
       "        vertical-align: middle;\n",
       "    }\n",
       "\n",
       "    .dataframe tbody tr th {\n",
       "        vertical-align: top;\n",
       "    }\n",
       "\n",
       "    .dataframe thead th {\n",
       "        text-align: right;\n",
       "    }\n",
       "</style>\n",
       "<table border=\"1\" class=\"dataframe\">\n",
       "  <thead>\n",
       "    <tr style=\"text-align: right;\">\n",
       "      <th></th>\n",
       "      <th>id</th>\n",
       "      <th>age</th>\n",
       "      <th>blood_pressure</th>\n",
       "      <th>specific_gravity</th>\n",
       "      <th>albumin</th>\n",
       "      <th>sugar</th>\n",
       "      <th>red_blood_cells</th>\n",
       "      <th>pus_cell</th>\n",
       "      <th>pus_cell_clumps</th>\n",
       "      <th>bacteria</th>\n",
       "      <th>...</th>\n",
       "      <th>serum_creatinine_filled</th>\n",
       "      <th>sodium_filled</th>\n",
       "      <th>potassium_filled</th>\n",
       "      <th>hemoglobin_filled</th>\n",
       "      <th>packed_cell_volume_filled</th>\n",
       "      <th>white_blood_cell_filled</th>\n",
       "      <th>red_blood_cell_filled</th>\n",
       "      <th>hypertension_filled</th>\n",
       "      <th>diabetes_mellitus_filled</th>\n",
       "      <th>coronary_artery_disease_filled</th>\n",
       "    </tr>\n",
       "  </thead>\n",
       "  <tbody>\n",
       "    <tr>\n",
       "      <th>89</th>\n",
       "      <td>185</td>\n",
       "      <td>4.0</td>\n",
       "      <td>NaN</td>\n",
       "      <td>1.02</td>\n",
       "      <td>1.0</td>\n",
       "      <td>0.0</td>\n",
       "      <td>NaN</td>\n",
       "      <td>1.0</td>\n",
       "      <td>0.0</td>\n",
       "      <td>0.0</td>\n",
       "      <td>...</td>\n",
       "      <td>0.6</td>\n",
       "      <td>138.0</td>\n",
       "      <td>4.4</td>\n",
       "      <td>12.0</td>\n",
       "      <td>34.0</td>\n",
       "      <td>7900.0</td>\n",
       "      <td>4.8</td>\n",
       "      <td>0.0</td>\n",
       "      <td>0.0</td>\n",
       "      <td>0.0</td>\n",
       "    </tr>\n",
       "    <tr>\n",
       "      <th>169</th>\n",
       "      <td>215</td>\n",
       "      <td>2.0</td>\n",
       "      <td>NaN</td>\n",
       "      <td>1.01</td>\n",
       "      <td>3.0</td>\n",
       "      <td>0.0</td>\n",
       "      <td>1.0</td>\n",
       "      <td>0.0</td>\n",
       "      <td>0.0</td>\n",
       "      <td>0.0</td>\n",
       "      <td>...</td>\n",
       "      <td>1.3</td>\n",
       "      <td>138.0</td>\n",
       "      <td>4.4</td>\n",
       "      <td>12.7</td>\n",
       "      <td>41.0</td>\n",
       "      <td>7900.0</td>\n",
       "      <td>4.8</td>\n",
       "      <td>0.0</td>\n",
       "      <td>0.0</td>\n",
       "      <td>0.0</td>\n",
       "    </tr>\n",
       "    <tr>\n",
       "      <th>212</th>\n",
       "      <td>190</td>\n",
       "      <td>6.0</td>\n",
       "      <td>60.0</td>\n",
       "      <td>1.01</td>\n",
       "      <td>4.0</td>\n",
       "      <td>0.0</td>\n",
       "      <td>0.0</td>\n",
       "      <td>0.0</td>\n",
       "      <td>0.0</td>\n",
       "      <td>1.0</td>\n",
       "      <td>...</td>\n",
       "      <td>1.0</td>\n",
       "      <td>135.0</td>\n",
       "      <td>4.9</td>\n",
       "      <td>9.9</td>\n",
       "      <td>30.0</td>\n",
       "      <td>16700.0</td>\n",
       "      <td>4.8</td>\n",
       "      <td>0.0</td>\n",
       "      <td>0.0</td>\n",
       "      <td>0.0</td>\n",
       "    </tr>\n",
       "    <tr>\n",
       "      <th>217</th>\n",
       "      <td>1</td>\n",
       "      <td>7.0</td>\n",
       "      <td>50.0</td>\n",
       "      <td>1.02</td>\n",
       "      <td>4.0</td>\n",
       "      <td>0.0</td>\n",
       "      <td>NaN</td>\n",
       "      <td>1.0</td>\n",
       "      <td>0.0</td>\n",
       "      <td>0.0</td>\n",
       "      <td>...</td>\n",
       "      <td>0.8</td>\n",
       "      <td>138.0</td>\n",
       "      <td>4.4</td>\n",
       "      <td>11.3</td>\n",
       "      <td>38.0</td>\n",
       "      <td>6000.0</td>\n",
       "      <td>4.8</td>\n",
       "      <td>0.0</td>\n",
       "      <td>0.0</td>\n",
       "      <td>0.0</td>\n",
       "    </tr>\n",
       "    <tr>\n",
       "      <th>246</th>\n",
       "      <td>187</td>\n",
       "      <td>3.0</td>\n",
       "      <td>NaN</td>\n",
       "      <td>1.01</td>\n",
       "      <td>2.0</td>\n",
       "      <td>0.0</td>\n",
       "      <td>1.0</td>\n",
       "      <td>1.0</td>\n",
       "      <td>0.0</td>\n",
       "      <td>0.0</td>\n",
       "      <td>...</td>\n",
       "      <td>0.7</td>\n",
       "      <td>138.0</td>\n",
       "      <td>4.4</td>\n",
       "      <td>10.7</td>\n",
       "      <td>34.0</td>\n",
       "      <td>12300.0</td>\n",
       "      <td>4.8</td>\n",
       "      <td>0.0</td>\n",
       "      <td>0.0</td>\n",
       "      <td>0.0</td>\n",
       "    </tr>\n",
       "  </tbody>\n",
       "</table>\n",
       "<p>5 rows × 47 columns</p>\n",
       "</div>"
      ],
      "text/plain": [
       "      id  age  blood_pressure  specific_gravity  albumin  sugar  \\\n",
       "89   185  4.0             NaN              1.02      1.0    0.0   \n",
       "169  215  2.0             NaN              1.01      3.0    0.0   \n",
       "212  190  6.0            60.0              1.01      4.0    0.0   \n",
       "217    1  7.0            50.0              1.02      4.0    0.0   \n",
       "246  187  3.0             NaN              1.01      2.0    0.0   \n",
       "\n",
       "     red_blood_cells  pus_cell  pus_cell_clumps  bacteria  ...  \\\n",
       "89               NaN       1.0              0.0       0.0  ...   \n",
       "169              1.0       0.0              0.0       0.0  ...   \n",
       "212              0.0       0.0              0.0       1.0  ...   \n",
       "217              NaN       1.0              0.0       0.0  ...   \n",
       "246              1.0       1.0              0.0       0.0  ...   \n",
       "\n",
       "     serum_creatinine_filled  sodium_filled  potassium_filled  \\\n",
       "89                       0.6          138.0               4.4   \n",
       "169                      1.3          138.0               4.4   \n",
       "212                      1.0          135.0               4.9   \n",
       "217                      0.8          138.0               4.4   \n",
       "246                      0.7          138.0               4.4   \n",
       "\n",
       "     hemoglobin_filled  packed_cell_volume_filled  white_blood_cell_filled  \\\n",
       "89                12.0                       34.0                   7900.0   \n",
       "169               12.7                       41.0                   7900.0   \n",
       "212                9.9                       30.0                  16700.0   \n",
       "217               11.3                       38.0                   6000.0   \n",
       "246               10.7                       34.0                  12300.0   \n",
       "\n",
       "     red_blood_cell_filled  hypertension_filled  diabetes_mellitus_filled  \\\n",
       "89                     4.8                  0.0                       0.0   \n",
       "169                    4.8                  0.0                       0.0   \n",
       "212                    4.8                  0.0                       0.0   \n",
       "217                    4.8                  0.0                       0.0   \n",
       "246                    4.8                  0.0                       0.0   \n",
       "\n",
       "     coronary_artery_disease_filled  \n",
       "89                              0.0  \n",
       "169                             0.0  \n",
       "212                             0.0  \n",
       "217                             0.0  \n",
       "246                             0.0  \n",
       "\n",
       "[5 rows x 47 columns]"
      ]
     },
     "execution_count": 28,
     "metadata": {},
     "output_type": "execute_result"
    }
   ],
   "source": [
    "df_outliers.head()"
   ]
  },
  {
   "cell_type": "raw",
   "metadata": {},
   "source": [
    "DELETE!!!\n",
    "\n",
    "from functools import reduce\n",
    "\n",
    "df_merged = reduce(lambda  left,right: pd.merge(left,right,on=['id'],\n",
    "                                            how='inner'), data_frames)\n"
   ]
  },
  {
   "cell_type": "markdown",
   "metadata": {},
   "source": [
    "### Create a dataframe with the outliers removed\n",
    "A major assumption of using binary logistic regression is that there should be no outliers in the data"
   ]
  },
  {
   "cell_type": "code",
   "execution_count": 32,
   "metadata": {},
   "outputs": [
    {
     "data": {
      "text/plain": [
       "102"
      ]
     },
     "execution_count": 32,
     "metadata": {},
     "output_type": "execute_result"
    }
   ],
   "source": [
    "df_outliers_removed = new_df.drop(df_outliers.index).reset_index(drop=True)\n",
    "len(df_outliers_removed)"
   ]
  },
  {
   "cell_type": "markdown",
   "metadata": {},
   "source": [
    "### 178 rows are lost when we get rid of the outliers!\n",
    "We'll try logistic regression but there won't be much data with which to run it."
   ]
  },
  {
   "cell_type": "code",
   "execution_count": 41,
   "metadata": {},
   "outputs": [
    {
     "data": {
      "text/plain": [
       "79"
      ]
     },
     "execution_count": 41,
     "metadata": {},
     "output_type": "execute_result"
    }
   ],
   "source": [
    "len(df_outliers_removed[df_outliers_removed.classification == 0])"
   ]
  },
  {
   "cell_type": "code",
   "execution_count": 40,
   "metadata": {},
   "outputs": [
    {
     "data": {
      "text/plain": [
       "23"
      ]
     },
     "execution_count": 40,
     "metadata": {},
     "output_type": "execute_result"
    }
   ],
   "source": [
    "len(df_outliers_removed[df_outliers_removed.classification == 1])"
   ]
  },
  {
   "cell_type": "markdown",
   "metadata": {},
   "source": [
    "### With outliers removed the ratio of patients who have been classified as having chronic kidney disease or not is 23:79"
   ]
  },
  {
   "cell_type": "raw",
   "metadata": {},
   "source": [
    "DELETE!!!\n",
    "\n",
    "# Remove outliers from each column\n",
    "for col in new_df.columns:\n",
    "    #if col != 'id' and col != 'classification':\n",
    "    # ---- if df[col].dtype == 'float64' and not '_filled' in col:\n",
    "    # find outliers for each column\n",
    "    outliers = find_outliers(col)\n",
    "    # remove outliers from column\n",
    "    new_df = new_df.drop(outliers.index, axis=0, inplace=True)\n",
    "    # ---- new_df = new_df.loc[!outliers]  \n",
    "    # return df without outliers\n"
   ]
  },
  {
   "cell_type": "raw",
   "metadata": {},
   "source": [
    "DELETE!!!\n",
    "\n",
    "def outlier_count():\n",
    "    summ = []\n",
    "    for col in df.columns:\n",
    "        if df[col].dtype == 'float64' and not '_filled' in col:\n",
    "            outlier = find_outliers(col)\n",
    "            lenn = len(outlier[outlier.classification == 'ckd'])\n",
    "            summ.append(lenn)\n",
    "    return np.sum(summ)\n",
    "\n",
    "outlier_count()"
   ]
  },
  {
   "cell_type": "markdown",
   "metadata": {},
   "source": [
    "### Plot outliers for each numerical feature"
   ]
  },
  {
   "cell_type": "code",
   "execution_count": null,
   "metadata": {},
   "outputs": [],
   "source": [
    "boxage = df.boxplot(column=['age'])\n"
   ]
  },
  {
   "cell_type": "code",
   "execution_count": null,
   "metadata": {},
   "outputs": [],
   "source": [
    "boxbp = df.boxplot(column=['blood_pressure'])\n"
   ]
  },
  {
   "cell_type": "code",
   "execution_count": null,
   "metadata": {},
   "outputs": [],
   "source": [
    "boxsgrav = df.boxplot(column=['specific_gravity'])\n"
   ]
  },
  {
   "cell_type": "code",
   "execution_count": null,
   "metadata": {},
   "outputs": [],
   "source": [
    "boxalb = df.boxplot(column=['albumin'])\n"
   ]
  },
  {
   "cell_type": "code",
   "execution_count": null,
   "metadata": {},
   "outputs": [],
   "source": [
    "boxsug = df.boxplot(column=['sugar'])\n"
   ]
  },
  {
   "cell_type": "code",
   "execution_count": null,
   "metadata": {},
   "outputs": [],
   "source": [
    "boxbgr = df.boxplot(column=['blood_glucose_random'])\n"
   ]
  },
  {
   "cell_type": "code",
   "execution_count": null,
   "metadata": {},
   "outputs": [],
   "source": [
    "boxbu = df.boxplot(column=['blood_urea'])\n"
   ]
  },
  {
   "cell_type": "code",
   "execution_count": null,
   "metadata": {},
   "outputs": [],
   "source": [
    "boxsc = df.boxplot(column=['serum_creatinine'])\n"
   ]
  },
  {
   "cell_type": "code",
   "execution_count": null,
   "metadata": {},
   "outputs": [],
   "source": [
    "boxso = df.boxplot(column=['sodium'])\n"
   ]
  },
  {
   "cell_type": "code",
   "execution_count": null,
   "metadata": {},
   "outputs": [],
   "source": [
    "boxpot = df.boxplot(column=['potassium'])\n"
   ]
  },
  {
   "cell_type": "code",
   "execution_count": null,
   "metadata": {},
   "outputs": [],
   "source": [
    "boxhemo = df.boxplot(column=['hemoglobin'])\n"
   ]
  },
  {
   "cell_type": "code",
   "execution_count": null,
   "metadata": {},
   "outputs": [],
   "source": [
    "boxpcv = df.boxplot(column=['packed_cell_volume'])\n"
   ]
  },
  {
   "cell_type": "raw",
   "metadata": {},
   "source": [
    "# Remove where hypertension, diabetes_mellitus, coronary_artery_disease are NaN\n",
    "df = df[df['hypertension'].notna()]\n"
   ]
  },
  {
   "cell_type": "markdown",
   "metadata": {},
   "source": [
    "### Let's use logistic regression on df_outliers_removed"
   ]
  },
  {
   "cell_type": "markdown",
   "metadata": {},
   "source": [
    "### Check whether the target data is balanced\n",
    "Does the patient have chronic kidney disease or not?\n",
    "- (0: notckd, 1: ckd)\n",
    "\n",
    "- notckd    Doesn't have the disease\n",
    "- ckd       Has the disease"
   ]
  },
  {
   "cell_type": "code",
   "execution_count": 47,
   "metadata": {},
   "outputs": [
    {
     "data": {
      "text/plain": [
       "1    174\n",
       "0    106\n",
       "Name: classification, dtype: int64"
      ]
     },
     "execution_count": 47,
     "metadata": {},
     "output_type": "execute_result"
    }
   ],
   "source": [
    "new_df.classification.value_counts()\n"
   ]
  },
  {
   "cell_type": "markdown",
   "metadata": {},
   "source": [
    "## Remove ids"
   ]
  },
  {
   "cell_type": "code",
   "execution_count": 51,
   "metadata": {},
   "outputs": [],
   "source": [
    "df_outliers_removed = df_outliers_removed.drop(columns=['id'])\n",
    "new_df = new_df.drop(columns=['id'])\n",
    "df_test = df_test.drop(columns=['id'])"
   ]
  },
  {
   "cell_type": "markdown",
   "metadata": {},
   "source": [
    "## Correlations\n",
    "- Pearson's r\n",
    "- Spearman's ρ\n",
    "- Kendall's τ\n",
    "- Phik (φk)\n",
    "- Cramér's V (φc)\n",
    "- Recoded"
   ]
  },
  {
   "cell_type": "markdown",
   "metadata": {},
   "source": [
    "### Making a heat map of df_outliers_removed"
   ]
  },
  {
   "cell_type": "code",
   "execution_count": 52,
   "metadata": {},
   "outputs": [
    {
     "data": {
      "image/png": "[encoded data removed]",
      "text/plain": [
       "<Figure size 1440x1080 with 2 Axes>"
      ]
     },
     "metadata": {},
     "output_type": "display_data"
    }
   ],
   "source": [
    "plt.rcParams['figure.figsize'] = (20, 15)\n",
    "plt.style.use('ggplot')\n",
    "\n",
    "sns.heatmap(df_outliers_removed.corr(), annot = True, cmap = 'coolwarm')\n",
    "plt.title('Heatmap for the Dataset', fontsize = 20)\n",
    "plt.show()"
   ]
  },
  {
   "cell_type": "raw",
   "metadata": {},
   "source": [
    "The above heat map is to show the correlations amongst the different attributes of the given dataset. It shows that almost all of the features/attributes given in the dataset are not very correlated with each other. The gray areas are where binary values are found, and so correlations are not made. This implies we must include all of the features, as we can only eliminate those features where the correlation of two or more features are very high (>0.9).\n",
    "\n",
    "The features most positively correlated with each other are hypertension and diabetes mellitus."
   ]
  },
  {
   "cell_type": "markdown",
   "metadata": {},
   "source": [
    "# Plots"
   ]
  },
  {
   "cell_type": "code",
   "execution_count": null,
   "metadata": {},
   "outputs": [],
   "source": [
    "plt.scatter(x=df.hemo_filled[df.classification==1], y=df.pcv_filled[(df.classification==1)], c=\"red\")\n",
    "plt.scatter(x=df.hemo_filled[df.classification==0], y=df.pcv_filled[(df.classification==0)], c=\"blue\")\n",
    "plt.legend([\"Disease\", \"Not Disease\"])\n",
    "plt.xlabel(\"hemo\")\n",
    "plt.ylabel(\"pcv\")\n",
    "plt.show()"
   ]
  },
  {
   "cell_type": "raw",
   "metadata": {},
   "source": [
    "Lower 'packed cell volume' and hemoglobin mostly correlate with having chronic kidney disease,"
   ]
  },
  {
   "cell_type": "markdown",
   "metadata": {},
   "source": [
    "### Frequency of chronic kidney disease across each feature"
   ]
  },
  {
   "cell_type": "code",
   "execution_count": null,
   "metadata": {},
   "outputs": [],
   "source": [
    "pd.crosstab(df.age_filled,df.classification).plot(kind=\"bar\",figsize=(35,10),color=['#DAF7A6','#FF5733' ])\n",
    "plt.title('Chronic Kidney Disease Frequency for Age')\n",
    "plt.xlabel('Age')\n",
    "plt.xticks(rotation = 0)\n",
    "plt.legend([\"Haven't Disease\", \"Have Disease\"])\n",
    "plt.ylabel('Frequency')\n",
    "plt.show()"
   ]
  },
  {
   "cell_type": "code",
   "execution_count": null,
   "metadata": {
    "scrolled": true
   },
   "outputs": [],
   "source": [
    "pd.crosstab(df.bp_filled,df.classification).plot(kind=\"bar\",figsize=(15,6),color=['#DAF7A6','#FF5733' ])\n",
    "plt.title('Chronic Kidney Disease Frequency for Blood Pressure')\n",
    "plt.xlabel('Blood Pressure')\n",
    "plt.xticks(rotation = 0)\n",
    "plt.legend([\"Haven't Disease\", \"Have Disease\"])\n",
    "plt.ylabel('Frequency')\n",
    "plt.show()"
   ]
  },
  {
   "cell_type": "code",
   "execution_count": null,
   "metadata": {},
   "outputs": [],
   "source": [
    "pd.crosstab(df.sg_filled,df.classification).plot(kind=\"bar\",figsize=(15,6),color=['#DAF7A6','#FF5733' ])\n",
    "plt.title('Chronic Kidney Disease Frequency for Specific Gravity')\n",
    "plt.xlabel('Specific Gravity')\n",
    "plt.xticks(rotation = 0)\n",
    "plt.legend([\"Haven't Disease\", \"Have Disease\"])\n",
    "plt.ylabel('Frequency')\n",
    "plt.show()"
   ]
  },
  {
   "cell_type": "code",
   "execution_count": null,
   "metadata": {},
   "outputs": [],
   "source": [
    "pd.crosstab(df.alb_filled,df.classification).plot(kind=\"bar\",figsize=(15,6),color=['#DAF7A6','#FF5733' ])\n",
    "plt.title('Chronic Kidney Disease Frequency for Albumin')\n",
    "plt.xlabel('Albumin')\n",
    "plt.xticks(rotation = 0)\n",
    "plt.legend([\"Haven't Disease\", \"Have Disease\"])\n",
    "plt.ylabel('Frequency')\n",
    "plt.show()"
   ]
  },
  {
   "cell_type": "code",
   "execution_count": null,
   "metadata": {},
   "outputs": [],
   "source": [
    "pd.crosstab(df.sugar_filled,df.classification).plot(kind=\"bar\",figsize=(15,6),color=['#DAF7A6','#FF5733' ])\n",
    "plt.title('Chronic Kidney Disease Frequency for Sugar')\n",
    "plt.xlabel('Sugar')\n",
    "plt.xticks(rotation = 0)\n",
    "plt.legend([\"Haven't Disease\", \"Have Disease\"])\n",
    "plt.ylabel('Frequency')\n",
    "plt.show()"
   ]
  },
  {
   "cell_type": "code",
   "execution_count": null,
   "metadata": {},
   "outputs": [],
   "source": [
    "pd.crosstab(df.bgr_filled,df.classification).plot(kind=\"bar\",figsize=(15,6),color=['#DAF7A6','#FF5733' ])\n",
    "plt.title('Chronic Kidney Disease Frequency for Blood glucose random')\n",
    "plt.xlabel('Blood glucose random')\n",
    "plt.xticks(rotation = 0)\n",
    "plt.legend([\"Haven't Disease\", \"Have Disease\"])\n",
    "plt.ylabel('Frequency')\n",
    "plt.show()"
   ]
  },
  {
   "cell_type": "code",
   "execution_count": null,
   "metadata": {},
   "outputs": [],
   "source": [
    "pd.crosstab(df.bu_filled,df.classification).plot(kind=\"bar\",figsize=(15,6),color=['#DAF7A6','#FF5733' ])\n",
    "plt.title('Chronic Kidney Disease Frequency for Blood urea')\n",
    "plt.xlabel('Blood urea')\n",
    "plt.xticks(rotation = 0)\n",
    "plt.legend([\"Haven't Disease\", \"Have Disease\"])\n",
    "plt.ylabel('Frequency')\n",
    "plt.show()"
   ]
  },
  {
   "cell_type": "code",
   "execution_count": null,
   "metadata": {},
   "outputs": [],
   "source": [
    "pd.crosstab(df.sc_filled,df.classification).plot(kind=\"bar\",figsize=(35,6),color=['#DAF7A6','#FF5733' ])\n",
    "plt.title('Chronic Kidney Disease Frequency for Serum creatinine')\n",
    "plt.xlabel('Serum creatinine')\n",
    "plt.xticks(rotation = 0)\n",
    "plt.legend([\"Haven't Disease\", \"Have Disease\"])\n",
    "plt.ylabel('Frequency')\n",
    "plt.show()"
   ]
  },
  {
   "cell_type": "code",
   "execution_count": null,
   "metadata": {},
   "outputs": [],
   "source": [
    "pd.crosstab(df.sod_filled ,df.classification).plot(kind=\"bar\",figsize=(35,6),color=['#DAF7A6','#FF5733' ])\n",
    "plt.title('Chronic Kidney Disease Frequency for Sodium')\n",
    "plt.xlabel('Sodium')\n",
    "plt.xticks(rotation = 0)\n",
    "plt.legend([\"Haven't Disease\", \"Have Disease\"])\n",
    "plt.ylabel('Frequency')\n",
    "plt.show()"
   ]
  },
  {
   "cell_type": "code",
   "execution_count": null,
   "metadata": {},
   "outputs": [],
   "source": [
    "pd.crosstab(df.pot_filled,df.classification).plot(kind=\"bar\",figsize=(35,6),color=['#DAF7A6','#FF5733' ])\n",
    "plt.title('Chronic Kidney Disease Frequency for Potassium')\n",
    "plt.xlabel('Potassium')\n",
    "plt.xticks(rotation = 0)\n",
    "plt.legend([\"Haven't Disease\", \"Have Disease\"])\n",
    "plt.ylabel('Frequency')\n",
    "plt.show()"
   ]
  },
  {
   "cell_type": "code",
   "execution_count": null,
   "metadata": {},
   "outputs": [],
   "source": [
    "pd.crosstab(df.hemo_filled,df.classification).plot(kind=\"bar\",figsize=(35,6),color=['#DAF7A6','#FF5733' ])\n",
    "plt.title('Chronic Kidney Disease Frequency for Hemoglobin')\n",
    "plt.xlabel('Hemoglobin')\n",
    "plt.xticks(rotation = 0)\n",
    "plt.legend([\"Haven't Disease\", \"Have Disease\"])\n",
    "plt.ylabel('Frequency')\n",
    "plt.show()"
   ]
  },
  {
   "cell_type": "code",
   "execution_count": null,
   "metadata": {},
   "outputs": [],
   "source": [
    "pd.crosstab(df.pcv_filled,df.classification).plot(kind=\"bar\",figsize=(35,6),color=['#DAF7A6','#FF5733' ])\n",
    "plt.title('Chronic Kidney Disease Frequency for Packed cell volume')\n",
    "plt.xlabel('Packed cell volume')\n",
    "plt.xticks(rotation = 0)\n",
    "plt.legend([\"Haven't Disease\", \"Have Disease\"])\n",
    "plt.ylabel('Frequency')\n",
    "plt.show()"
   ]
  },
  {
   "cell_type": "code",
   "execution_count": null,
   "metadata": {},
   "outputs": [],
   "source": [
    "pd.crosstab(df.wbc_filled,df.classification).plot(kind=\"bar\",figsize=(35,6),color=['#DAF7A6','#FF5733' ])\n",
    "plt.title('Chronic Kidney Disease Frequency for White blood cell')\n",
    "plt.xlabel('White blood cell')\n",
    "plt.xticks(rotation = 0)\n",
    "plt.legend([\"Haven't Disease\", \"Have Disease\"])\n",
    "plt.ylabel('Frequency')\n",
    "plt.show()"
   ]
  },
  {
   "cell_type": "code",
   "execution_count": null,
   "metadata": {},
   "outputs": [],
   "source": [
    "pd.crosstab(df.rbc_filled,df.classification).plot(kind=\"bar\",figsize=(35,6),color=['#DAF7A6','#FF5733' ])\n",
    "plt.title('Chronic Kidney Disease Frequency for Red blood cell')\n",
    "plt.xlabel('Red blood cell')\n",
    "plt.xticks(rotation = 0)\n",
    "plt.legend([\"Haven't Disease\", \"Have Disease\"])\n",
    "plt.ylabel('Frequency')\n",
    "plt.show()"
   ]
  },
  {
   "cell_type": "code",
   "execution_count": null,
   "metadata": {},
   "outputs": [],
   "source": [
    "pd.crosstab(df.red_blood_cells,df.classification).plot(kind=\"bar\",figsize=(35,6),color=['#DAF7A6','#FF5733' ])\n",
    "plt.title('Chronic Kidney Disease Frequency for Red blood cells')\n",
    "plt.xlabel('Red blood cells')\n",
    "plt.xticks(rotation = 0)\n",
    "plt.legend([\"Haven't Disease\", \"Have Disease\"])\n",
    "plt.ylabel('Frequency')\n",
    "plt.show()"
   ]
  },
  {
   "cell_type": "code",
   "execution_count": null,
   "metadata": {},
   "outputs": [],
   "source": [
    "pd.crosstab(df.pus_cell,df.classification).plot(kind=\"bar\",figsize=(35,6),color=['#DAF7A6','#FF5733' ])\n",
    "plt.title('Chronic Kidney Disease Frequency for Pus cell')\n",
    "plt.xlabel('Pus cell')\n",
    "plt.xticks(rotation = 0)\n",
    "plt.legend([\"Haven't Disease\", \"Have Disease\"])\n",
    "plt.ylabel('Frequency')\n",
    "plt.show()"
   ]
  },
  {
   "cell_type": "code",
   "execution_count": null,
   "metadata": {},
   "outputs": [],
   "source": [
    "pd.crosstab(df.pus_cell_clumps,df.classification).plot(kind=\"bar\",figsize=(35,6),color=['#DAF7A6','#FF5733' ])\n",
    "plt.title('Chronic Kidney Disease Frequency for Psus_cell_clumps')\n",
    "plt.xlabel('Pus_cell_clumps')\n",
    "plt.xticks(rotation = 0)\n",
    "plt.legend([\"Haven't Disease\", \"Have Disease\"])\n",
    "plt.ylabel('Frequency')\n",
    "plt.show()"
   ]
  },
  {
   "cell_type": "code",
   "execution_count": null,
   "metadata": {},
   "outputs": [],
   "source": [
    "pd.crosstab(df.bacteria,df.classification).plot(kind=\"bar\",figsize=(35,6),color=['#DAF7A6','#FF5733' ])\n",
    "plt.title('Chronic Kidney Disease Frequency for Bacteria')\n",
    "plt.xlabel('Bacteria')\n",
    "plt.xticks(rotation = 0)\n",
    "plt.legend([\"Haven't Disease\", \"Have Disease\"])\n",
    "plt.ylabel('Frequency')\n",
    "plt.show()"
   ]
  },
  {
   "cell_type": "code",
   "execution_count": null,
   "metadata": {},
   "outputs": [],
   "source": [
    "pd.crosstab(df.hypertension,df.classification).plot(kind=\"bar\",figsize=(35,6),color=['#DAF7A6','#FF5733' ])\n",
    "plt.title('Chronic Kidney Disease Frequency for hypertension')\n",
    "plt.xlabel('hypertension')\n",
    "plt.xticks(rotation = 0)\n",
    "plt.legend([\"Haven't Disease\", \"Have Disease\"])\n",
    "plt.ylabel('Frequency')\n",
    "plt.show()"
   ]
  },
  {
   "cell_type": "code",
   "execution_count": null,
   "metadata": {},
   "outputs": [],
   "source": [
    "pd.crosstab(df.diabetes_mellitus,df.classification).plot(kind=\"bar\",figsize=(35,6),color=['#DAF7A6','#FF5733' ])\n",
    "plt.title('Chronic Kidney Disease Frequency for diabetes_mellitus')\n",
    "plt.xlabel('diabetes_mellitus')\n",
    "plt.xticks(rotation = 0)\n",
    "plt.legend([\"Haven't Disease\", \"Have Disease\"])\n",
    "plt.ylabel('Frequency')\n",
    "plt.show()"
   ]
  },
  {
   "cell_type": "code",
   "execution_count": null,
   "metadata": {},
   "outputs": [],
   "source": [
    "pd.crosstab(df.coronary_artery_disease,df.classification).plot(kind=\"bar\",figsize=(35,6),color=['#DAF7A6','#FF5733' ])\n",
    "plt.title('Chronic Kidney Disease Frequency for coronary_artery_disease')\n",
    "plt.xlabel('coronary_artery_disease')\n",
    "plt.xticks(rotation = 0)\n",
    "plt.legend([\"Haven't Disease\", \"Have Disease\"])\n",
    "plt.ylabel('Frequency')\n",
    "plt.show()"
   ]
  },
  {
   "cell_type": "code",
   "execution_count": null,
   "metadata": {},
   "outputs": [],
   "source": [
    "pd.crosstab(df.appetite,df.classification).plot(kind=\"bar\",figsize=(35,6),color=['#DAF7A6','#FF5733' ])\n",
    "plt.title('Chronic Kidney Disease Frequency for appetite')\n",
    "plt.xlabel('appetite')\n",
    "plt.xticks(rotation = 0)\n",
    "plt.legend([\"Haven't Disease\", \"Have Disease\"])\n",
    "plt.ylabel('Frequency')\n",
    "plt.show()"
   ]
  },
  {
   "cell_type": "code",
   "execution_count": null,
   "metadata": {},
   "outputs": [],
   "source": [
    "pd.crosstab(df.pedal_edema,df.classification).plot(kind=\"bar\",figsize=(35,6),color=['#DAF7A6','#FF5733' ])\n",
    "plt.title('Chronic Kidney Disease Frequency for pedal_edema')\n",
    "plt.xlabel('pedal_edema')\n",
    "plt.xticks(rotation = 0)\n",
    "plt.legend([\"Haven't Disease\", \"Have Disease\"])\n",
    "plt.ylabel('Frequency')\n",
    "plt.show()"
   ]
  },
  {
   "cell_type": "code",
   "execution_count": null,
   "metadata": {},
   "outputs": [],
   "source": [
    "pd.crosstab(df.anemia,df.classification).plot(kind=\"bar\",figsize=(35,6),color=['#DAF7A6','#FF5733' ])\n",
    "plt.title('Chronic Kidney Disease Frequency for anemia')\n",
    "plt.xlabel('anemia')\n",
    "plt.xticks(rotation = 0)\n",
    "plt.legend([\"Haven't Disease\", \"Have Disease\"])\n",
    "plt.ylabel('Frequency')\n",
    "plt.show()"
   ]
  },
  {
   "cell_type": "code",
   "execution_count": null,
   "metadata": {},
   "outputs": [],
   "source": [
    "df.rbc_filled.value_counts()[:5]"
   ]
  },
  {
   "cell_type": "code",
   "execution_count": null,
   "metadata": {},
   "outputs": [],
   "source": [
    "pd.crosstab(df.hypertension,df.classification).plot(kind=\"bar\",figsize=(15,6),color=['#FFC300','#581845' ])\n",
    "plt.title('Chronic Kidney Disease Frequency According To Hypertension')\n",
    "plt.xlabel('Hypertension - (1 = true; 0 = false)')\n",
    "plt.xticks(rotation = 0)\n",
    "plt.legend([\"Haven't Disease\", \"Have Disease\"])\n",
    "plt.ylabel('Frequency of Disease or Not')\n",
    "plt.show()"
   ]
  },
  {
   "cell_type": "code",
   "execution_count": null,
   "metadata": {},
   "outputs": [],
   "source": [
    "pd.crosstab(df.diabetes_mellitus,df.classification).plot(kind=\"bar\",figsize=(15,6),color=['#11A5AA','#AA1190' ])\n",
    "plt.title('Chronic Kidney Disease Frequency According To diabetes mellitus')\n",
    "plt.xlabel('Presence of diabetes mellitus')\n",
    "plt.xticks(rotation = 0)\n",
    "plt.ylabel('Frequency of Disease or Not')\n",
    "plt.show()"
   ]
  },
  {
   "cell_type": "markdown",
   "metadata": {},
   "source": [
    "# Split data for modelling"
   ]
  },
  {
   "cell_type": "code",
   "execution_count": null,
   "metadata": {},
   "outputs": [],
   "source": [
    "df.columns"
   ]
  },
  {
   "cell_type": "code",
   "execution_count": null,
   "metadata": {},
   "outputs": [],
   "source": [
    "df_x = df[['age_filled', 'bp_filled', 'sg_filled', 'alb_filled',\n",
    "       'sugar_filled', 'bgr_filled', 'bu_filled', 'sc_filled', 'sod_filled',\n",
    "       'pot_filled', 'hemo_filled', 'pcv_filled', 'wbc_filled', 'rbc_filled', 'hypertension', 'diabetes_mellitus',\n",
    "       'coronary_artery_disease', 'appetite', 'pedal_edema', 'anemia']]\n"
   ]
  },
  {
   "cell_type": "markdown",
   "metadata": {},
   "source": [
    "# NaNs in X_train"
   ]
  },
  {
   "cell_type": "code",
   "execution_count": null,
   "metadata": {},
   "outputs": [],
   "source": [
    "df_x.isnull().sum()"
   ]
  },
  {
   "cell_type": "code",
   "execution_count": null,
   "metadata": {},
   "outputs": [],
   "source": [
    "df_x.hypertension[df_x.hypertension.isna()]"
   ]
  },
  {
   "cell_type": "code",
   "execution_count": null,
   "metadata": {},
   "outputs": [],
   "source": [
    "df_x.diabetes_mellitus[df_x.diabetes_mellitus.isna()]"
   ]
  },
  {
   "cell_type": "code",
   "execution_count": null,
   "metadata": {},
   "outputs": [],
   "source": [
    "df_x.coronary_artery_disease[df_x.coronary_artery_disease.isna()]"
   ]
  },
  {
   "cell_type": "code",
   "execution_count": null,
   "metadata": {},
   "outputs": [],
   "source": [
    "df_x = df_x[df_x['hypertension'].notna()]"
   ]
  },
  {
   "cell_type": "code",
   "execution_count": null,
   "metadata": {},
   "outputs": [],
   "source": [
    "# How many nulls in the features\n",
    "df_x.isnull().sum()"
   ]
  },
  {
   "cell_type": "code",
   "execution_count": null,
   "metadata": {},
   "outputs": [],
   "source": [
    "df_y = df[['classification']]"
   ]
  },
  {
   "cell_type": "code",
   "execution_count": null,
   "metadata": {},
   "outputs": [],
   "source": [
    "# How many nulls in the target\n",
    "df_y.isnull().sum()"
   ]
  },
  {
   "cell_type": "markdown",
   "metadata": {},
   "source": [
    "## Sklearn Logistic Regression"
   ]
  },
  {
   "cell_type": "raw",
   "metadata": {},
   "source": [
    "X = df_x.values\n",
    "y = df_y.values\n"
   ]
  },
  {
   "cell_type": "markdown",
   "metadata": {},
   "source": [
    "## Identify features and target to train"
   ]
  },
  {
   "cell_type": "code",
   "execution_count": null,
   "metadata": {},
   "outputs": [],
   "source": [
    "len(X)"
   ]
  },
  {
   "cell_type": "code",
   "execution_count": null,
   "metadata": {
    "scrolled": true
   },
   "outputs": [],
   "source": [
    "len(y)"
   ]
  },
  {
   "cell_type": "raw",
   "metadata": {},
   "source": [
    "X_train, X_test, y_train, y_test = train_test_split(X, y)"
   ]
  },
  {
   "cell_type": "code",
   "execution_count": null,
   "metadata": {},
   "outputs": [],
   "source": [
    "df_x"
   ]
  },
  {
   "cell_type": "code",
   "execution_count": null,
   "metadata": {},
   "outputs": [],
   "source": [
    "df_test"
   ]
  },
  {
   "cell_type": "markdown",
   "metadata": {},
   "source": [
    "## Before applying to the model, re-order the training data columns to match the test data"
   ]
  },
  {
   "cell_type": "code",
   "execution_count": null,
   "metadata": {},
   "outputs": [],
   "source": [
    "df = df[['age_filled', 'bp_filled', 'sg_filled', 'alb_filled', 'sugar_filled', 'red_blood_cells',\n",
    "         'pus_cell', 'pus_cell_clumps', 'bacteria', 'bgr_filled', 'bu_filled', 'sc_filled',\n",
    "         'sod_filled', 'pot_filled', 'hemo_filled', 'pcv_filled', 'wbc_filled', 'rbc_filled',\n",
    "         'hypertension', 'diabetes_mellitus', 'coronary_artery_disease', 'appetite',\n",
    "         'pedal_edema', 'anemia']]\n",
    "\n",
    "df = df.rename(columns={'bp': 'blood_pressure','sg': 'specific_gravity','al': 'albumin','su': 'sugar',\n",
    "               'rbc': 'red_blood_cells','pc': 'pus_cell','pcc': 'pus_cell_clumps','ba': 'bacteria',\n",
    "               'bgr': 'blood_glucose_random','bu': 'blood_urea','sc': 'serum_creatinine',\n",
    "               'sod': 'sodium','pot': 'potassium','hemo': 'hemoglobin','pcv': 'packed_cell_volume',\n",
    "               'wc': 'white_blood_cell','rc': 'red_blood_cell','htn': 'hypertension','dm': 'diabetes_mellitus',\n",
    "               'cad': 'coronary_artery_disease','appet': 'appetite','pe': 'pedal_edema','ane': 'anemia'})\n",
    "# To-Do\n",
    "['age', 'bp', 'sg', 'al', 'su', 'rbc', 'pc', 'pcc', 'ba', 'bgr', 'bu',\n",
    "       'sc', 'sod', 'pot', 'hemo', 'pcv', 'wc', 'rc', 'htn', 'dm', 'cad',\n",
    "       'appet', 'pe', 'ane']\n"
   ]
  },
  {
   "cell_type": "markdown",
   "metadata": {},
   "source": [
    "## Define training and testing set using test data provided"
   ]
  },
  {
   "cell_type": "code",
   "execution_count": null,
   "metadata": {},
   "outputs": [],
   "source": [
    "df_x.columns"
   ]
  },
  {
   "cell_type": "code",
   "execution_count": null,
   "metadata": {},
   "outputs": [],
   "source": [
    "df_y.columns"
   ]
  },
  {
   "cell_type": "code",
   "execution_count": null,
   "metadata": {},
   "outputs": [],
   "source": [
    "df_test.columns"
   ]
  },
  {
   "cell_type": "code",
   "execution_count": null,
   "metadata": {},
   "outputs": [],
   "source": [
    "X_train = df_x\n",
    "y_train = df_y\n",
    "X_test = test.drop(\"PassengerId\", axis=1).copy()\n",
    "\n",
    "X_train.shape, y_train.shape, X_test.shape"
   ]
  },
  {
   "cell_type": "code",
   "execution_count": null,
   "metadata": {},
   "outputs": [],
   "source": []
  },
  {
   "cell_type": "code",
   "execution_count": null,
   "metadata": {},
   "outputs": [],
   "source": []
  },
  {
   "cell_type": "code",
   "execution_count": null,
   "metadata": {},
   "outputs": [],
   "source": []
  },
  {
   "cell_type": "code",
   "execution_count": null,
   "metadata": {},
   "outputs": [],
   "source": [
    "accuracies = {}\n",
    "\n",
    "lr = LogisticRegression()\n",
    "lr.fit(X_train,y_train)\n",
    "acc = lr.score(X_test,y_test)*100\n",
    "\n",
    "accuracies['Logistic Regression'] = acc\n",
    "print(\"Test Accuracy {:.2f}%\".format(acc))"
   ]
  },
  {
   "cell_type": "markdown",
   "metadata": {},
   "source": [
    "## Using the test data provided"
   ]
  },
  {
   "cell_type": "code",
   "execution_count": null,
   "metadata": {},
   "outputs": [],
   "source": [
    "df_test.head()"
   ]
  },
  {
   "cell_type": "code",
   "execution_count": null,
   "metadata": {},
   "outputs": [],
   "source": [
    "df.describe()\n"
   ]
  },
  {
   "cell_type": "code",
   "execution_count": null,
   "metadata": {},
   "outputs": [],
   "source": [
    "df_test.describe()\n"
   ]
  },
  {
   "cell_type": "code",
   "execution_count": null,
   "metadata": {},
   "outputs": [],
   "source": [
    "df.columns"
   ]
  },
  {
   "cell_type": "code",
   "execution_count": null,
   "metadata": {},
   "outputs": [],
   "source": [
    "df_test.columns"
   ]
  },
  {
   "cell_type": "markdown",
   "metadata": {},
   "source": [
    "### Revert names back to abbreviations to test the model"
   ]
  },
  {
   "cell_type": "code",
   "execution_count": null,
   "metadata": {},
   "outputs": [],
   "source": [
    "df = df.rename(columns={'bp': 'blood_pressure','sg': 'specific_gravity','al': 'albumin','su': 'sugar',\n",
    "                   'rbc': 'red_blood_cells','pc': 'pus_cell','pcc': 'pus_cell_clumps','ba': 'bacteria',\n",
    "                   'bgr': 'blood_glucose_random','bu': 'blood_urea','sc': 'serum_creatinine',\n",
    "                   'sod': 'sodium','pot': 'potassium','hemo': 'hemoglobin','pcv': 'packed_cell_volume',\n",
    "                   'wc': 'white_blood_cell','rc': 'red_blood_cell','htn': 'hypertension','dm': 'diabetes_mellitus',\n",
    "                   'cad': 'coronary_artery_disease','appet': 'appetite','pe': 'pedal_edema','ane': 'anemia'})\n"
   ]
  },
  {
   "cell_type": "markdown",
   "metadata": {},
   "source": [
    "# Random Forest Model"
   ]
  },
  {
   "cell_type": "code",
   "execution_count": null,
   "metadata": {},
   "outputs": [],
   "source": []
  },
  {
   "cell_type": "code",
   "execution_count": null,
   "metadata": {},
   "outputs": [],
   "source": [
    "df_x.isnull().sum()"
   ]
  },
  {
   "cell_type": "code",
   "execution_count": null,
   "metadata": {},
   "outputs": [],
   "source": [
    "clf = RandomForestClassifier()\n",
    "clf.fit(X_train, y_train.ravel())\n",
    "\n",
    "# .values will give the values in an array. (shape: (n,1)\n",
    "# .ravel will convert that array shape to (n, )"
   ]
  },
  {
   "cell_type": "code",
   "execution_count": null,
   "metadata": {},
   "outputs": [],
   "source": [
    "y_pred = clf.predict(X_test)"
   ]
  },
  {
   "cell_type": "code",
   "execution_count": null,
   "metadata": {},
   "outputs": [],
   "source": []
  },
  {
   "cell_type": "code",
   "execution_count": null,
   "metadata": {},
   "outputs": [],
   "source": []
  },
  {
   "cell_type": "code",
   "execution_count": null,
   "metadata": {},
   "outputs": [],
   "source": []
  },
  {
   "cell_type": "code",
   "execution_count": null,
   "metadata": {},
   "outputs": [],
   "source": [
    "def load_data():\n",
    "    df = pd.read_csv(\"kidney_disease_train.csv\")\n",
    "\n",
    "    df = df.rename(columns={'bp': 'blood_pressure','sg': 'specific_gravity','al': 'albumin','su': 'sugar',\n",
    "                   'rbc': 'red_blood_cells','pc': 'pus_cell','pcc': 'pus_cell_clumps','ba': 'bacteria',\n",
    "                   'bgr': 'blood_glucose_random','bu': 'blood_urea','sc': 'serum_creatinine',\n",
    "                   'sod': 'sodium','pot': 'potassium','hemo': 'hemoglobin','pcv': 'packed_cell_volume',\n",
    "                   'wc': 'white_blood_cell','rc': 'red_blood_cell','htn': 'hypertension','dm': 'diabetes_mellitus',\n",
    "                   'cad': 'coronary_artery_disease','appet': 'appetite','pe': 'pedal_edema','ane': 'anemia'})\n",
    "\n",
    "    # Coerce numerical values from string to float\n",
    "    df['white_blood_cell'] = pd.to_numeric(df['white_blood_cell'], errors='coerce')\n",
    "    df['red_blood_cell'] = pd.to_numeric(df['red_blood_cell'], errors='coerce')\n",
    "\n",
    "    # Imputing Data\n",
    "    # With the missing numerical values, we  will fill them in with their means\n",
    "    df['age_filled'] = df['age'].transform(lambda x: x.fillna(x.mean()))\n",
    "    df['bp_filled'] = df['blood_pressure'].transform(lambda x: x.fillna(x.mean()))\n",
    "    df['sg_filled'] = df['specific_gravity'].transform(lambda x: x.fillna(x.mean()))\n",
    "    df['alb_filled'] = df['albumin'].transform(lambda x: x.fillna(x.mean()))\n",
    "    df['sugar_filled'] = df['sugar'].transform(lambda x: x.fillna(x.mean()))\n",
    "    df['bgr_filled'] = df['blood_glucose_random'].transform(lambda x: x.fillna(x.mean()))\n",
    "    df['bu_filled'] = df['blood_urea'].transform(lambda x: x.fillna(x.mean()))\n",
    "    df['sc_filled'] = df['serum_creatinine'].transform(lambda x: x.fillna(x.mean()))\n",
    "    df['sod_filled'] = df['sodium'].transform(lambda x: x.fillna(x.mean()))\n",
    "    df['pot_filled'] = df['potassium'].transform(lambda x: x.fillna(x.mean()))\n",
    "    df['hemo_filled'] = df['hemoglobin'].transform(lambda x: x.fillna(x.mean()))\n",
    "    df['pcv_filled'] = df['packed_cell_volume'].transform(lambda x: x.fillna(x.mean()))\n",
    "    df['wbc_filled'] = df['white_blood_cell'].transform(lambda x: x.fillna(x.mean()))\n",
    "    df['rbc_filled'] = df['red_blood_cell'].transform(lambda x: x.fillna(x.mean()))    \n",
    "\n",
    "    # Create boolean values for each object feature\n",
    "    df.red_blood_cells = df.red_blood_cells.map({ 'normal' : 1, 'abnormal' : 0})\n",
    "    df.pus_cell = df.pus_cell.map({ 'normal' : 1, 'abnormal' : 0})\n",
    "    df.pus_cell_clumps = df.pus_cell_clumps.map({ 'present' : 1, 'notpresent' : 0})\n",
    "    df.bacteria = df.bacteria.map({ 'present' : 1, 'notpresent' : 0})\n",
    "    df.hypertension = df.hypertension.map({ 'yes' : 1, 'no' : 0})\n",
    "    df.diabetes_mellitus = df.diabetes_mellitus.map({ 'yes' : 1, '\\tyes' : 1, '\\tno' : 0, 'no' : 0})\n",
    "    df.coronary_artery_disease = df.coronary_artery_disease.map({ 'yes' : 1, 'no' : 0, '\\tno' : 0})\n",
    "    df.appetite = df.appetite.map({ 'good' : 1, 'poor' : 0})\n",
    "    df.pedal_edema = df.pedal_edema.map({ 'yes' : 1, 'no' : 0})\n",
    "    df.anemia = df.anemia.map({ 'yes' : 1, 'no' : 0})\n",
    "    df.classification = df.classification.map({ 'ckd' : 1, 'notckd' : 0})\n",
    "\n",
    "    # Remove the row where hypertension, diabetes_mellitus, coronary_artery_disease are NaN\n",
    "    df = df[df['hypertension'].notna()]\n",
    "    \n",
    "    # Use the imputed data in the model\n",
    "    df_x = df[['age_filled', 'bp_filled', 'sg_filled', 'alb_filled',\n",
    "       'sugar_filled', 'bgr_filled', 'bu_filled', 'sc_filled', 'sod_filled',\n",
    "       'pot_filled', 'hemo_filled', 'pcv_filled', 'wbc_filled', 'rbc_filled', 'hypertension', 'diabetes_mellitus',\n",
    "       'coronary_artery_disease', 'appetite', 'pedal_edema', 'anemia']]\n",
    "\n",
    "    # Use the classification as the target\n",
    "    df_y = df[['classification']]\n",
    "\n",
    "    X = df_x.values\n",
    "    y = df_y.values\n",
    "    return X, y"
   ]
  },
  {
   "cell_type": "code",
   "execution_count": null,
   "metadata": {},
   "outputs": [],
   "source": [
    "def display_results(y_test, y_pred):\n",
    "    labels = np.unique(y_pred)\n",
    "    confusion_mat = confusion_matrix(y_test, y_pred, labels=labels)\n",
    "    accuracy = (y_pred == y_test).mean()\n",
    "\n",
    "    print(\"Labels:\", labels)\n",
    "    print(\"Confusion Matrix:\\n\", confusion_mat)\n",
    "    print(\"Accuracy:\", accuracy)"
   ]
  },
  {
   "cell_type": "code",
   "execution_count": null,
   "metadata": {},
   "outputs": [],
   "source": [
    "from sklearn.metrics import confusion_matrix\n",
    "\n",
    "# display results\n",
    "display_results(y_test, y_pred)"
   ]
  },
  {
   "cell_type": "code",
   "execution_count": null,
   "metadata": {},
   "outputs": [],
   "source": [
    "def main():\n",
    "    X, y = load_data()\n",
    "    X_train, X_test, y_train, y_test = train_test_split(X, y)\n",
    "\n",
    "    vect = CountVectorizer(tokenizer=tokenize)\n",
    "    tfidf = TfidfTransformer()\n",
    "    clf = RandomForestClassifier()\n",
    "\n",
    "    # train classifier\n",
    "    X_train_counts = vect.fit_transform(X_train)\n",
    "    X_train_tfidf = tfidf.fit_transform(X_train_counts)\n",
    "    clf.fit(X_train_tfidf, y_train)\n",
    "\n",
    "    # predict on test data\n",
    "    X_test_counts = vect.transform(X_test)\n",
    "    X_test_tfidf = tfidf.transform(X_test_counts)\n",
    "    y_pred = clf.predict(X_test_tfidf)\n",
    "\n",
    "    # display results\n",
    "    display_results(y_test, y_pred)\n",
    "\n",
    "\n",
    "main()"
   ]
  },
  {
   "cell_type": "code",
   "execution_count": null,
   "metadata": {},
   "outputs": [],
   "source": []
  },
  {
   "cell_type": "code",
   "execution_count": null,
   "metadata": {},
   "outputs": [],
   "source": []
  },
  {
   "cell_type": "code",
   "execution_count": null,
   "metadata": {},
   "outputs": [],
   "source": []
  },
  {
   "cell_type": "code",
   "execution_count": null,
   "metadata": {},
   "outputs": [],
   "source": [
    "knn.fit(X_train, np.ravel(y_train,order='C'))\n",
    "\n"
   ]
  },
  {
   "cell_type": "code",
   "execution_count": null,
   "metadata": {},
   "outputs": [],
   "source": []
  },
  {
   "cell_type": "code",
   "execution_count": null,
   "metadata": {},
   "outputs": [],
   "source": []
  },
  {
   "cell_type": "code",
   "execution_count": null,
   "metadata": {},
   "outputs": [],
   "source": [
    "# Check how many null values are in the test data set\n",
    "df_test.isnull().sum()"
   ]
  },
  {
   "cell_type": "code",
   "execution_count": null,
   "metadata": {},
   "outputs": [],
   "source": []
  }
 ],
 "metadata": {
  "kernelspec": {
   "display_name": "Python 3",
   "language": "python",
   "name": "python3"
  },
  "language_info": {
   "codemirror_mode": {
    "name": "ipython",
    "version": 3
   },
   "file_extension": ".py",
   "mimetype": "text/x-python",
   "name": "python",
   "nbconvert_exporter": "python",
   "pygments_lexer": "ipython3",
   "version": "3.6.6"
  }
 },
 "nbformat": 4,
 "nbformat_minor": 2
}
